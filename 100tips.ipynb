{
 "cells": [
  {
   "cell_type": "markdown",
   "id": "028a9cbc-9514-4cb3-8a11-3a689b5bcabc",
   "metadata": {},
   "source": [
    "\n",
    "<center> <font size=\"4\"> Inspired by the article by <b>Fatos Morina</b>. <br>Link: <i>https://towardsdatascience.com/100-helpful-python-tips-you-can-learn-before-finishing-your-morning-coffee-eb9c39e68958</i>  </font> </center>\n",
    "<br>\n",
    "    \n",
    "<center> <font size=\"4\"> Do you want to learn Python, SQL, Django, Machine Learning, Deep Learning, and Statistics in one-on-one classes🤔 </font> </center>\n",
    "\n",
    "<center> <font size=\"4\"> Drop me a message on LinkedIn to discuss your requirements </font> </center>\n",
    "\n",
    "<br>\n",
    "<center> <font size=\"4\"> Follow me on LinkedIn for more: <b>linkedin.com/in/arjun-panwar/ <b/></font> </center>"
   ]
  },
  {
   "cell_type": "markdown",
   "id": "2db021cd-30ea-4b09-a6eb-2865a6e64ae7",
   "metadata": {},
   "source": [
    "# 0. Get Python Version in Jupyter Notebook"
   ]
  },
  {
   "cell_type": "code",
   "execution_count": 32,
   "id": "e5f7cab9-65a4-48be-9f5d-8d00391b7fc7",
   "metadata": {},
   "outputs": [
    {
     "name": "stdout",
     "output_type": "stream",
     "text": [
      "3.8.13\n"
     ]
    }
   ],
   "source": [
    "from platform import python_version\n",
    "\n",
    "print(python_version())"
   ]
  },
  {
   "cell_type": "markdown",
   "id": "dea0bae4-e39d-4ebf-972c-32cc453a9bb5",
   "metadata": {},
   "source": [
    "# 1. “Else” condition inside a “for” loop\n",
    "Despite all the Python code that you have seen so far, chances are that you may have missed the following “for-else” which I also got to see for the first time a couple of weeks ago.\n",
    "\n",
    "This is a “for-else” method of looping through a list, where despite having an iteration through a list, you also have an “else” condition, which is quite unusual.\n",
    "\n",
    "This is not something that I have seen in other programming languages like Java, Ruby, or JavaScript.\n",
    "\n",
    "Let’s see an example of how it looks in practice.\n",
    "\n",
    "Let’s say that we are trying to check whether there are no odd numbers in a list.\n",
    "\n",
    "Let’s iterate through it:"
   ]
  },
  {
   "cell_type": "code",
   "execution_count": 1,
   "id": "96f98145-593d-4375-b01c-528ee189d624",
   "metadata": {},
   "outputs": [
    {
     "name": "stdout",
     "output_type": "stream",
     "text": [
      "1\n"
     ]
    }
   ],
   "source": [
    "numbers = [2, 4, 6, 8, 1]\n",
    "\n",
    "for number in numbers:\n",
    "    if number % 2 == 1:\n",
    "        print(number)\n",
    "        break\n",
    "else:\n",
    "    print(\"No odd numbers\")"
   ]
  },
  {
   "cell_type": "markdown",
   "id": "e63a9a88-168a-4c17-a79e-848fb191af6e",
   "metadata": {},
   "source": [
    "In case we find an odd number, then that number will be printed since break will be executed and the else branch will be skipped.\n",
    "\n",
    "Otherwise, if break is never executed, the execution flow will continue with the else branch.\n",
    "\n",
    "In this example, we are going to print 1."
   ]
  },
  {
   "cell_type": "markdown",
   "id": "2180668d-2155-484e-8338-46eec9eb2e39",
   "metadata": {},
   "source": [
    "#### If we remove all odd numbers"
   ]
  },
  {
   "cell_type": "code",
   "execution_count": 9,
   "id": "588fc3c0-df4d-4d62-82b1-84bffbff2b15",
   "metadata": {},
   "outputs": [
    {
     "name": "stdout",
     "output_type": "stream",
     "text": [
      "No odd numbers\n"
     ]
    }
   ],
   "source": [
    "numbers = [2, 4, 6, 8]\n",
    "\n",
    "for number in numbers:\n",
    "    if number % 2 == 1:\n",
    "        print(number)\n",
    "        break\n",
    "else:\n",
    "    print(\"No odd numbers\")"
   ]
  },
  {
   "cell_type": "markdown",
   "id": "3386eb1e-6cc9-40c9-84f8-3c49215fa9c0",
   "metadata": {},
   "source": [
    "# 2. Get elements from a list using named variables"
   ]
  },
  {
   "cell_type": "code",
   "execution_count": 2,
   "id": "ccf9a7d7-8bab-4858-84c1-c4165fd10a7a",
   "metadata": {},
   "outputs": [],
   "source": [
    "my_list = [1, 2, 3, 4, 5]\n",
    "one, two, three, four, five = my_list"
   ]
  },
  {
   "cell_type": "code",
   "execution_count": 3,
   "id": "408d4b4d-e743-483e-b6be-4a7cbfea2f60",
   "metadata": {},
   "outputs": [
    {
     "data": {
      "text/plain": [
       "1"
      ]
     },
     "execution_count": 3,
     "metadata": {},
     "output_type": "execute_result"
    }
   ],
   "source": [
    "one"
   ]
  },
  {
   "cell_type": "code",
   "execution_count": 4,
   "id": "0e60bc6f-b115-4f85-9c6f-f8c23e3653fa",
   "metadata": {},
   "outputs": [
    {
     "data": {
      "text/plain": [
       "2"
      ]
     },
     "execution_count": 4,
     "metadata": {},
     "output_type": "execute_result"
    }
   ],
   "source": [
    "two"
   ]
  },
  {
   "cell_type": "code",
   "execution_count": 5,
   "id": "42794a53-0787-4c67-b182-b057750094af",
   "metadata": {},
   "outputs": [
    {
     "data": {
      "text/plain": [
       "3"
      ]
     },
     "execution_count": 5,
     "metadata": {},
     "output_type": "execute_result"
    }
   ],
   "source": [
    "three"
   ]
  },
  {
   "cell_type": "code",
   "execution_count": 6,
   "id": "e70e2fc8-49d4-4b27-af81-eba17d4dc432",
   "metadata": {},
   "outputs": [
    {
     "data": {
      "text/plain": [
       "4"
      ]
     },
     "execution_count": 6,
     "metadata": {},
     "output_type": "execute_result"
    }
   ],
   "source": [
    "four"
   ]
  },
  {
   "cell_type": "code",
   "execution_count": 7,
   "id": "84044c7b-3095-499a-87aa-7dc1071d7a8e",
   "metadata": {},
   "outputs": [
    {
     "data": {
      "text/plain": [
       "5"
      ]
     },
     "execution_count": 7,
     "metadata": {},
     "output_type": "execute_result"
    }
   ],
   "source": [
    "five"
   ]
  },
  {
   "cell_type": "markdown",
   "id": "e4911a2b-75cd-4227-b00f-f479b9422330",
   "metadata": {},
   "source": [
    "# 3. Get n largest or n smallest elements in a list using the module heapq"
   ]
  },
  {
   "cell_type": "code",
   "execution_count": 10,
   "id": "d842f2b4-959e-4aee-92eb-0c6abe992a15",
   "metadata": {},
   "outputs": [
    {
     "name": "stdout",
     "output_type": "stream",
     "text": [
      "[91, 87, 82]\n",
      "[15, 33, 33, 49, 51]\n"
     ]
    }
   ],
   "source": [
    "import heapq\n",
    "\n",
    "scores = [51, 33, 64, 87, 91, 75, 15, 49, 33, 82]\n",
    "\n",
    "print(heapq.nlargest(3, scores))  # [91, 87, 82]\n",
    "print(heapq.nsmallest(5, scores))  # [15, 33, 33, 49, 51]"
   ]
  },
  {
   "cell_type": "markdown",
   "id": "6cd8cbf9-9320-4471-9079-329db78adb3a",
   "metadata": {},
   "source": [
    "# 4. Pass values from a list as method arguments\n",
    "We can extract all elements of a list using “*”:"
   ]
  },
  {
   "cell_type": "code",
   "execution_count": 12,
   "id": "413c22d2-a6b5-4d5f-a0f1-dee3abc066a9",
   "metadata": {},
   "outputs": [
    {
     "name": "stdout",
     "output_type": "stream",
     "text": [
      "[1, 2, 3, 4]\n",
      "1 2 3 4\n"
     ]
    }
   ],
   "source": [
    "my_list = [1, 2, 3, 4]\n",
    "print(my_list)  # [1, 2, 3, 4]\n",
    "print(*my_list)  # 1 2 3 4"
   ]
  },
  {
   "cell_type": "markdown",
   "id": "1e300a4f-288a-4042-909c-5414815a2e78",
   "metadata": {},
   "source": [
    "This can be helpful in situations where we want to pass all elements of a list as method arguments:"
   ]
  },
  {
   "cell_type": "code",
   "execution_count": 13,
   "id": "b9238434-9ff9-4fed-91fc-429203fd0ef0",
   "metadata": {},
   "outputs": [
    {
     "name": "stdout",
     "output_type": "stream",
     "text": [
      "10\n"
     ]
    }
   ],
   "source": [
    "def sum_of_elements(*arg):\n",
    "    total = 0\n",
    "    for i in arg:\n",
    "        total += i\n",
    "\n",
    "    return total\n",
    "\n",
    "\n",
    "result = sum_of_elements(*[1, 2, 3, 4])\n",
    "print(result)  # 10"
   ]
  },
  {
   "cell_type": "markdown",
   "id": "e99bd6e0-7cd3-4681-b30b-a5edd2da840c",
   "metadata": {},
   "source": [
    "# 5. Get all the elements in the middle of the list"
   ]
  },
  {
   "cell_type": "code",
   "execution_count": 14,
   "id": "03c0e591-3b50-4f57-806f-26ac8cc2c1dc",
   "metadata": {},
   "outputs": [
    {
     "name": "stdout",
     "output_type": "stream",
     "text": [
      "[2, 3, 4, 5, 6, 7]\n"
     ]
    }
   ],
   "source": [
    "_, *elements_in_the_middle, _ = [1, 2, 3, 4, 5, 6, 7, 8]\n",
    "print(elements_in_the_middle)  # [2, 3, 4, 5, 6, 7]"
   ]
  },
  {
   "cell_type": "markdown",
   "id": "15eaaed5-882a-4617-848b-0687233ba148",
   "metadata": {},
   "source": [
    "# 6. Assign multiple variables in just one line"
   ]
  },
  {
   "cell_type": "code",
   "execution_count": 15,
   "id": "c2484945-8a30-442c-abb6-ec2ef111e5c1",
   "metadata": {},
   "outputs": [],
   "source": [
    "one, two, three, four = 1, 2, 3, 4"
   ]
  },
  {
   "cell_type": "code",
   "execution_count": 16,
   "id": "b175c942-1ea2-465d-a0d2-5a544d35e94d",
   "metadata": {},
   "outputs": [
    {
     "data": {
      "text/plain": [
       "1"
      ]
     },
     "execution_count": 16,
     "metadata": {},
     "output_type": "execute_result"
    }
   ],
   "source": [
    "one"
   ]
  },
  {
   "cell_type": "code",
   "execution_count": 17,
   "id": "d8740222-88cb-4f13-ae47-f5e8862173d6",
   "metadata": {},
   "outputs": [
    {
     "data": {
      "text/plain": [
       "2"
      ]
     },
     "execution_count": 17,
     "metadata": {},
     "output_type": "execute_result"
    }
   ],
   "source": [
    "two"
   ]
  },
  {
   "cell_type": "code",
   "execution_count": 18,
   "id": "cae64f8a-f1ea-46d9-94ef-afcbdbeb633f",
   "metadata": {},
   "outputs": [
    {
     "data": {
      "text/plain": [
       "3"
      ]
     },
     "execution_count": 18,
     "metadata": {},
     "output_type": "execute_result"
    }
   ],
   "source": [
    "three"
   ]
  },
  {
   "cell_type": "code",
   "execution_count": 19,
   "id": "30d1f8a6-b751-4b2b-b2e1-bca1da32c024",
   "metadata": {},
   "outputs": [
    {
     "data": {
      "text/plain": [
       "4"
      ]
     },
     "execution_count": 19,
     "metadata": {},
     "output_type": "execute_result"
    }
   ],
   "source": [
    "four"
   ]
  },
  {
   "cell_type": "markdown",
   "id": "6cca565b-e983-4c34-bb99-296f3c6ffe72",
   "metadata": {},
   "source": [
    "# 7. List comprehensions\n",
    "You can loop through the elements in a list in a single line in a very comprehensive way.\n",
    "\n",
    "Let’s see that in action in the following example:"
   ]
  },
  {
   "cell_type": "code",
   "execution_count": 20,
   "id": "999563aa-6672-4a7b-a1e3-2574a434b7df",
   "metadata": {},
   "outputs": [
    {
     "name": "stdout",
     "output_type": "stream",
     "text": [
      "[2, 4, 6, 8]\n"
     ]
    }
   ],
   "source": [
    "numbers = [1, 2, 3, 4, 5, 6, 7, 8]\n",
    "\n",
    "even_numbers = [number for number in numbers if number % 2 == 0]\n",
    "\n",
    "print(even_numbers)  # [2, 4, 6, 8]"
   ]
  },
  {
   "cell_type": "markdown",
   "id": "aacb154d-14da-45c4-a4b8-1a16845c43e7",
   "metadata": {},
   "source": [
    "We can do the same with dictionaries, sets, and generators.\n",
    "\n",
    "Let’s see another example, but now for dictionaries."
   ]
  },
  {
   "cell_type": "code",
   "execution_count": 21,
   "id": "fb981035-e4fd-4eb7-b3a0-3ac09876c7a6",
   "metadata": {},
   "outputs": [
    {
     "name": "stdout",
     "output_type": "stream",
     "text": [
      "{'first_element': 1, 'third_element': 3}\n"
     ]
    }
   ],
   "source": [
    "dictionary = {'first_element': 1, 'second_element': 2,\n",
    "              'third_element': 3, 'fourth_element': 4}\n",
    "odd_value_elements = {key: num for (key, num) in\n",
    "                      dictionary.items() if num % 2 == 1}\n",
    "print(odd_value_elements)  # {'first_element': 1, 'third_element': 3}"
   ]
  },
  {
   "cell_type": "markdown",
   "id": "8ffb7ce3-79df-4cfd-83e5-a3d2971b6b5b",
   "metadata": {},
   "source": [
    " # 8. Enumerate related items of the same concept via Enum\n",
    " An Enum is a set of symbolic names bound to unique values. They are similar to global variables, but they offer a more useful repr(), grouping, type-safety, and a few other features."
   ]
  },
  {
   "cell_type": "code",
   "execution_count": 22,
   "id": "fa280251-6a64-426e-bd09-debc2d0eec50",
   "metadata": {},
   "outputs": [
    {
     "name": "stdout",
     "output_type": "stream",
     "text": [
      "IN_PROGRESS\n",
      "2\n"
     ]
    }
   ],
   "source": [
    "from enum import Enum\n",
    "\n",
    "\n",
    "class Status(Enum):\n",
    "    NO_STATUS = -1\n",
    "    NOT_STARTED = 0\n",
    "    IN_PROGRESS = 1\n",
    "    COMPLETED = 2\n",
    "\n",
    "\n",
    "print(Status.IN_PROGRESS.name)  # IN_PROGRESS\n",
    "print(Status.COMPLETED.value)  # 2"
   ]
  },
  {
   "cell_type": "markdown",
   "id": "7f01b161-3464-45f7-93e6-6e8c63863339",
   "metadata": {},
   "source": [
    "# 9. Repeat strings without looping"
   ]
  },
  {
   "cell_type": "code",
   "execution_count": 23,
   "id": "775a7288-3f4c-4153-a0fc-6a92097fcf9a",
   "metadata": {},
   "outputs": [
    {
     "name": "stdout",
     "output_type": "stream",
     "text": [
      "AbcAbcAbcAbcAbc\n"
     ]
    }
   ],
   "source": [
    "string = \"Abc\"\n",
    "\n",
    "print(string * 5)  # AbcAbcAbcAbcAbc"
   ]
  },
  {
   "cell_type": "markdown",
   "id": "f8005d6d-e1f0-42d2-bfd4-4a1d7b972dcc",
   "metadata": {},
   "source": [
    "# 10. Compare 3 numbers just like in Math\n",
    "If you have a value and you want to compare it whether it is between two other values, there is a simple expression that you use in Math:\n",
    "\n",
    "1 < x < 10\n",
    "\n",
    "That is the algebraic expression that we learn in elementary school. However, you can also use that same expression in Python as well.\n",
    "\n",
    "Yes, you heard that right. You have probably done comparisons of such form up until now:\n",
    "\n",
    "1 < x and x < 10\n",
    "\n",
    "For that, you simply need to use the following in Python:\n",
    "\n",
    "1 < x < 10"
   ]
  },
  {
   "cell_type": "code",
   "execution_count": 25,
   "id": "cd22dd0d-1aa3-40bc-a6e2-f6d0630aa62c",
   "metadata": {},
   "outputs": [
    {
     "name": "stdout",
     "output_type": "stream",
     "text": [
      "True\n"
     ]
    }
   ],
   "source": [
    "x=3\n",
    "print(1<x<10)"
   ]
  },
  {
   "cell_type": "markdown",
   "id": "6ac3c2ae-cef9-4c41-bb74-cc539d277407",
   "metadata": {},
   "source": [
    "This doesn’t work in Ruby, the programming language that was developed with the intention of making programmers happy. This turns out to be working in JavaScript as well.\n",
    "\n",
    "I was really impressed seeing such a simple expression not being talked about more widely. At least, I haven’t seen it being mentioned that much."
   ]
  },
  {
   "cell_type": "markdown",
   "id": "da8451a9-8ff7-4a34-99d0-dcdc16783891",
   "metadata": {},
   "source": [
    "# 11. Merge dictionaries in a single readable line\n",
    "This is available as of Python 3.9:"
   ]
  },
  {
   "cell_type": "raw",
   "id": "81c120bc-8044-4843-a01d-517a93b2e4a1",
   "metadata": {},
   "source": [
    "first_dictionary = {'name': 'Fatos', 'location': 'Munich'}\n",
    "second_dictionary = {'name': 'Fatos', 'surname': 'Morina','location': 'Bavaria, Munich'}\n",
    "\n",
    "result = first_dictionary | second_dictionary\n",
    "\n",
    "print(result)  "
   ]
  },
  {
   "cell_type": "markdown",
   "id": "c5bc9da2-2007-4f35-86c8-90f73343b9aa",
   "metadata": {},
   "source": [
    "{'name': 'Fatos', 'location': 'Bavaria, Munich', 'surname': 'Morina'}"
   ]
  },
  {
   "cell_type": "markdown",
   "id": "ceb6b5a1-54db-49a1-8a0c-6485f7fac0a7",
   "metadata": {},
   "source": [
    "# 12. Find the index of an element in a tuple"
   ]
  },
  {
   "cell_type": "code",
   "execution_count": 1,
   "id": "12f54426-38f3-4453-961f-1e2053492fbc",
   "metadata": {},
   "outputs": [
    {
     "name": "stdout",
     "output_type": "stream",
     "text": [
      "3\n"
     ]
    }
   ],
   "source": [
    "books = ('Atomic habits', 'Ego is the enemy', 'Outliers', 'Mastery')\n",
    "\n",
    "print(books.index('Mastery'))"
   ]
  },
  {
   "cell_type": "markdown",
   "id": "49d6c498-1178-4284-9bfd-6a16fcfefa56",
   "metadata": {},
   "source": [
    "# 13. Convert a string into a list of strings\n",
    "Let’s say that you get the input in a function that is a string, but it is supposed to be a list:"
   ]
  },
  {
   "cell_type": "raw",
   "id": "9117bb78-b832-4bf6-8894-4a0e18357deb",
   "metadata": {},
   "source": [
    "input = \"[1,2,3]\""
   ]
  },
  {
   "cell_type": "markdown",
   "id": "296ab338-b739-4904-9108-cfb7b060ab9f",
   "metadata": {},
   "source": [
    "You don’t need it in that format. You need it to be a list:"
   ]
  },
  {
   "cell_type": "raw",
   "id": "f1e3ec87-f05a-4cdc-a153-5f635786f7dc",
   "metadata": {},
   "source": [
    "input = [1,2,3]"
   ]
  },
  {
   "cell_type": "markdown",
   "id": "859339f4-742c-4aef-b043-959b8c7e8324",
   "metadata": {},
   "source": [
    "Or maybe you the following response from an API call:"
   ]
  },
  {
   "cell_type": "raw",
   "id": "698ecc7f-1736-4605-b402-a7bab4a80656",
   "metadata": {},
   "source": [
    "input = [[1, 2, 3], [4, 5, 6]]"
   ]
  },
  {
   "cell_type": "markdown",
   "id": "1849d806-6881-42cc-8da8-69807b362fbb",
   "metadata": {},
   "source": [
    "Rather than bothering with complicated regular expressions, all you have to do is import the module ast and then call its method <b>literal_eval</b>:"
   ]
  },
  {
   "cell_type": "code",
   "execution_count": 2,
   "id": "711d7ec9-3824-4fd7-b6cd-0ec89095ac4d",
   "metadata": {},
   "outputs": [],
   "source": [
    "import ast\n",
    "\n",
    "\n",
    "def string_to_list(string):\n",
    "    return ast.literal_eval(string)"
   ]
  },
  {
   "cell_type": "markdown",
   "id": "3b782aee-0d94-4545-a890-38f953594b46",
   "metadata": {},
   "source": [
    "That’s all you need to do.\n",
    "\n",
    "Now you will get the result as a list, or list of lists, namely like the following:"
   ]
  },
  {
   "cell_type": "code",
   "execution_count": 3,
   "id": "8cc25882-79e3-4666-8857-ea161fed1d4e",
   "metadata": {},
   "outputs": [
    {
     "name": "stdout",
     "output_type": "stream",
     "text": [
      "[[1, 2, 3], [4, 5, 6]]\n"
     ]
    }
   ],
   "source": [
    "string = \"[[1, 2, 3],[4, 5, 6]]\"\n",
    "my_list = string_to_list(string)\n",
    "print(my_list) "
   ]
  },
  {
   "cell_type": "markdown",
   "id": "dadddf9d-b310-4ad3-8496-7b4a9367fbb0",
   "metadata": {},
   "source": [
    "we can also use lambda function"
   ]
  },
  {
   "cell_type": "code",
   "execution_count": 4,
   "id": "56f5dfdc-c8ba-4639-99cc-79f00dd592fd",
   "metadata": {},
   "outputs": [],
   "source": [
    "string_to_list = lambda string: ast.literal_eval(string)"
   ]
  },
  {
   "cell_type": "markdown",
   "id": "91d9d2cb-807a-424a-b50b-c82db953bf88",
   "metadata": {},
   "source": [
    "# 14. Avoid “trivial” mistakes by using named parameters\n",
    "Let’s assume that you want to find the difference between 2 numbers. The difference is not commutative:\n",
    "\n"
   ]
  },
  {
   "cell_type": "raw",
   "id": "8161b27e-da82-4ca1-be66-3bd8044c2fe0",
   "metadata": {},
   "source": [
    "a - b != b -a"
   ]
  },
  {
   "cell_type": "markdown",
   "id": "bdb81baf-5cca-492b-8606-8fcb1c0592e9",
   "metadata": {},
   "source": [
    "\n",
    "However, we may forget the ordering of the parameters which can cause “trivial” mistakes:"
   ]
  },
  {
   "cell_type": "code",
   "execution_count": 5,
   "id": "31093213-052a-4dc0-866b-e16d438eed56",
   "metadata": {},
   "outputs": [
    {
     "name": "stdout",
     "output_type": "stream",
     "text": [
      "-2\n",
      "2\n"
     ]
    }
   ],
   "source": [
    "def subtract(a, b):\n",
    "    return a - b\n",
    "\n",
    "\n",
    "print((subtract(1, 3)))\n",
    "print((subtract(3, 1)))"
   ]
  },
  {
   "cell_type": "markdown",
   "id": "88a3fd12-6483-4a96-a3a6-aac9483faeee",
   "metadata": {},
   "source": [
    "To avoid such potential mistakes, we can simply use named parameters and the ordering of parameters doesn’t matter anymore:"
   ]
  },
  {
   "cell_type": "code",
   "execution_count": 6,
   "id": "e9ab660c-5798-47d0-8ac9-12d8b1f03511",
   "metadata": {},
   "outputs": [
    {
     "name": "stdout",
     "output_type": "stream",
     "text": [
      "-2\n",
      "-2\n"
     ]
    }
   ],
   "source": [
    "def subtract(a, b):\n",
    "    return a - b\n",
    "\n",
    "\n",
    "print((subtract(a=1, b=3))) \n",
    "print((subtract(b=3, a=1)))"
   ]
  },
  {
   "cell_type": "markdown",
   "id": "fe4699a1-b570-4391-8d22-5348e3b2d5b9",
   "metadata": {},
   "source": [
    "# 15. Print multiple elements with a single print() statement"
   ]
  },
  {
   "cell_type": "code",
   "execution_count": 7,
   "id": "7ecb8f46-a694-47fc-94fb-37164b202bf3",
   "metadata": {},
   "outputs": [
    {
     "name": "stdout",
     "output_type": "stream",
     "text": [
      "1 2 3 a z this is here here is something else\n"
     ]
    }
   ],
   "source": [
    "print(1, 2, 3, \"a\", \"z\", \"this is here\", \"here is something else\")"
   ]
  },
  {
   "cell_type": "markdown",
   "id": "451b84f4-c0db-4ca2-bebe-a61e535a7ddf",
   "metadata": {},
   "source": [
    "# 16. Print multiple elements in the same line"
   ]
  },
  {
   "cell_type": "code",
   "execution_count": 8,
   "id": "e2c64f74-dd40-4ec4-a021-2ab4bc22412b",
   "metadata": {},
   "outputs": [
    {
     "name": "stdout",
     "output_type": "stream",
     "text": [
      "HelloWorld\n",
      "Hello World\n",
      "words, with, commas, in, between\n"
     ]
    }
   ],
   "source": [
    "print(\"Hello\", end=\"\")\n",
    "print(\"World\")  # HelloWorld\n",
    "print(\"Hello\", end=\" \")\n",
    "print(\"World\")  # Hello World\n",
    "print('words',   'with', 'commas', 'in', 'between', sep=', ')"
   ]
  },
  {
   "cell_type": "markdown",
   "id": "26e4c869-20fc-4b07-8500-005499974701",
   "metadata": {},
   "source": [
    "# 17. Print multiple values with a custom separator in between each value\n",
    "You can do advanced printing quite easily:"
   ]
  },
  {
   "cell_type": "code",
   "execution_count": 9,
   "id": "d143740f-a550-4aa1-aabf-096dd73d5b9d",
   "metadata": {},
   "outputs": [
    {
     "name": "stdout",
     "output_type": "stream",
     "text": [
      "name@domain.com\n",
      "29/1/2022\n"
     ]
    }
   ],
   "source": [
    "print(\"name\", \"domain.com\", sep=\"@\")\n",
    "\n",
    "day=29\n",
    "month=1\n",
    "year=2022\n",
    "print(day,month, year,sep=\"/\") "
   ]
  },
  {
   "cell_type": "markdown",
   "id": "a9b650f6-f7f4-4a80-b57f-66bacfab9100",
   "metadata": {},
   "source": [
    "# 18. You cannot use a number at the beginning of the name of a variable"
   ]
  },
  {
   "cell_type": "code",
   "execution_count": 10,
   "id": "b7d8cda0-7a64-430e-9103-236f96944ac3",
   "metadata": {},
   "outputs": [],
   "source": [
    "four_letters = \"abcd\" # this works"
   ]
  },
  {
   "cell_type": "code",
   "execution_count": 11,
   "id": "48272c03-c971-4e8c-a4d6-08dad214cea4",
   "metadata": {},
   "outputs": [
    {
     "ename": "SyntaxError",
     "evalue": "invalid decimal literal (1162040199.py, line 1)",
     "output_type": "error",
     "traceback": [
      "\u001b[0;36m  Input \u001b[0;32mIn [11]\u001b[0;36m\u001b[0m\n\u001b[0;31m    4_letters = \"abcd\"# this doesn’t work\u001b[0m\n\u001b[0m     ^\u001b[0m\n\u001b[0;31mSyntaxError\u001b[0m\u001b[0;31m:\u001b[0m invalid decimal literal\n"
     ]
    }
   ],
   "source": [
    "4_letters = \"abcd\"# this doesn’t work"
   ]
  },
  {
   "cell_type": "markdown",
   "id": "9ecc871e-a3b5-4f80-8d7a-ffeb09bd9e93",
   "metadata": {},
   "source": [
    "# 19. You cannot use an operator at the beginning of the name of a variable"
   ]
  },
  {
   "cell_type": "code",
   "execution_count": 12,
   "id": "86bf0b9b-0687-487d-87f0-2e648c97ff31",
   "metadata": {},
   "outputs": [
    {
     "ename": "SyntaxError",
     "evalue": "invalid character in identifier (1392631888.py, line 1)",
     "output_type": "error",
     "traceback": [
      "\u001b[0;36m  Input \u001b[0;32mIn [12]\u001b[0;36m\u001b[0m\n\u001b[0;31m    +variable = “abcd”  # this doesn’t work\u001b[0m\n\u001b[0m                     ^\u001b[0m\n\u001b[0;31mSyntaxError\u001b[0m\u001b[0;31m:\u001b[0m invalid character in identifier\n"
     ]
    }
   ],
   "source": [
    "+variable = “abcd”  # this doesn’t work"
   ]
  },
  {
   "cell_type": "markdown",
   "id": "6b32238d-2104-4b01-a45b-e50d98a4c089",
   "metadata": {},
   "source": [
    "# 20. You cannot have 0 as the first digit in a number"
   ]
  },
  {
   "cell_type": "code",
   "execution_count": 13,
   "id": "49aa1ba0-11d0-4a1d-981f-7dca9fbc5b1c",
   "metadata": {},
   "outputs": [
    {
     "ename": "SyntaxError",
     "evalue": "leading zeros in decimal integer literals are not permitted; use an 0o prefix for octal integers (2867550321.py, line 1)",
     "output_type": "error",
     "traceback": [
      "\u001b[0;36m  Input \u001b[0;32mIn [13]\u001b[0;36m\u001b[0m\n\u001b[0;31m    number = 0110 # this doesn't work\u001b[0m\n\u001b[0m                ^\u001b[0m\n\u001b[0;31mSyntaxError\u001b[0m\u001b[0;31m:\u001b[0m leading zeros in decimal integer literals are not permitted; use an 0o prefix for octal integers\n"
     ]
    }
   ],
   "source": [
    "number = 0110 # this doesn't work\n"
   ]
  },
  {
   "cell_type": "markdown",
   "id": "5ea7295c-de2d-447d-9347-31e0c0fd16fa",
   "metadata": {},
   "source": [
    "# 21. You can use the underscore character anywhere in the name of a variable\n",
    "This means, anywhere you want, as many times as you want in the name of a variable:"
   ]
  },
  {
   "cell_type": "code",
   "execution_count": 14,
   "id": "cf64eacc-5724-4e49-8396-aaba02ca770e",
   "metadata": {},
   "outputs": [],
   "source": [
    "a______b = \"abcd\"  # this works"
   ]
  },
  {
   "cell_type": "code",
   "execution_count": 15,
   "id": "a399d6d3-6906-40db-a8b9-03289283ba90",
   "metadata": {},
   "outputs": [],
   "source": [
    "_a_b_c_d = \"abcd\"  # this also works"
   ]
  },
  {
   "cell_type": "markdown",
   "id": "42711173-8639-4ace-a156-6031ae8e2479",
   "metadata": {},
   "source": [
    "I am not encouraging you to use it, but in case you see a weird naming of a variable like that, know that it is actually a valid name of a variable"
   ]
  },
  {
   "cell_type": "markdown",
   "id": "b7b0a45f-598f-4ee6-b48d-458422c27beb",
   "metadata": {},
   "source": [
    "# 22. You can separate big numbers with the underscore\n",
    "#### This way it can be easier to read them."
   ]
  },
  {
   "cell_type": "code",
   "execution_count": 16,
   "id": "00b2ac95-22cc-4fa8-91b0-914cf5344227",
   "metadata": {},
   "outputs": [
    {
     "name": "stdout",
     "output_type": "stream",
     "text": [
      "1000000000\n",
      "1234567\n"
     ]
    }
   ],
   "source": [
    "print(1_000_000_000)  \n",
    "print(1_234_567)"
   ]
  },
  {
   "cell_type": "markdown",
   "id": "1733598c-e72c-498b-ad9a-847dd41aa160",
   "metadata": {},
   "source": [
    "# 23. Reverse the ordering of a list"
   ]
  },
  {
   "cell_type": "code",
   "execution_count": 17,
   "id": "d47a9203-b741-4a42-b297-e437908901bf",
   "metadata": {},
   "outputs": [
    {
     "name": "stdout",
     "output_type": "stream",
     "text": [
      "['d', 'c', 'b', 'a']\n"
     ]
    }
   ],
   "source": [
    "my_list = ['a', 'b', 'c', 'd']\n",
    "\n",
    "my_list.reverse()\n",
    "\n",
    "print(my_list)  # ['d', 'c', 'b', 'a']"
   ]
  },
  {
   "cell_type": "markdown",
   "id": "3a659131-825d-45b4-99ca-334fe63910c6",
   "metadata": {},
   "source": [
    "# 24. Slice a string using a step function"
   ]
  },
  {
   "cell_type": "code",
   "execution_count": 18,
   "id": "c88e38df-8e47-4df6-97ca-ee3572445583",
   "metadata": {},
   "outputs": [
    {
     "name": "stdout",
     "output_type": "stream",
     "text": [
      "This \n",
      "Tssu\n"
     ]
    }
   ],
   "source": [
    "my_string = \"This is just a sentence\"\n",
    "print(my_string[0:5])  # This\n",
    "\n",
    "# Take three steps forward\n",
    "print(my_string[0:10:3])  # Tsse"
   ]
  },
  {
   "cell_type": "markdown",
   "id": "c724ac85-1d5c-4dba-9ac2-2f8d63f4a1d9",
   "metadata": {},
   "source": [
    "# 25. Reverse slicing"
   ]
  },
  {
   "cell_type": "code",
   "execution_count": 19,
   "id": "38625cd9-4fd2-4cc1-83a8-aec9711b284e",
   "metadata": {},
   "outputs": [
    {
     "name": "stdout",
     "output_type": "stream",
     "text": [
      "suj si sih\n",
      "sjs i\n"
     ]
    }
   ],
   "source": [
    "my_string = \"This is just a sentence\"\n",
    "print(my_string[10:0:-1])  # suj si sih\n",
    "\n",
    "# Take two steps forward\n",
    "print(my_string[10:0:-2])  # sjs i"
   ]
  },
  {
   "cell_type": "markdown",
   "id": "b57bebe7-93f7-4b5e-b5bf-9b9d2fb23f9f",
   "metadata": {},
   "source": [
    "# 26. Partial Slicing with just the beginning or ending index\n",
    "Indices indicating the start and end of slicing can be optional."
   ]
  },
  {
   "cell_type": "code",
   "execution_count": 20,
   "id": "347cb6b3-158c-466d-a85a-35ada952fa28",
   "metadata": {},
   "outputs": [
    {
     "name": "stdout",
     "output_type": "stream",
     "text": [
      " is just a sentence\n",
      "Thi\n"
     ]
    }
   ],
   "source": [
    "my_string = \"This is just a sentence\"\n",
    "print(my_string[4:])  # is just a sentence\n",
    "\n",
    "print(my_string[:3])  # Thi"
   ]
  },
  {
   "cell_type": "markdown",
   "id": "bcb84d35-c8c1-4de1-923a-53d343eb53d3",
   "metadata": {},
   "source": [
    "# 27. Floor division"
   ]
  },
  {
   "cell_type": "code",
   "execution_count": 21,
   "id": "7afb55fb-de83-40f4-b0ad-ddf75856aafc",
   "metadata": {},
   "outputs": [
    {
     "name": "stdout",
     "output_type": "stream",
     "text": [
      "1.5\n",
      "1\n"
     ]
    }
   ],
   "source": [
    "print(3/2)  # 1.5\n",
    "print(3//2)  # 1"
   ]
  },
  {
   "cell_type": "markdown",
   "id": "06c913fb-71b0-421f-88d3-a36df0e3ef72",
   "metadata": {},
   "source": [
    "# 28. Difference between == and “is”\n",
    "“is” checks whether 2 variables are pointing to the same object in memory.\n",
    "\n",
    "“==” compares the equality of values that these 2 objects hold."
   ]
  },
  {
   "cell_type": "code",
   "execution_count": 22,
   "id": "f41dca14-b1af-46d9-a326-a0b4de2e9666",
   "metadata": {},
   "outputs": [
    {
     "name": "stdout",
     "output_type": "stream",
     "text": [
      "True\n",
      "False\n",
      "True\n"
     ]
    }
   ],
   "source": [
    "first_list = [1, 2, 3]\n",
    "second_list = [1, 2, 3]\n",
    "\n",
    "# Is their actual value the same?\n",
    "print(first_list == second_list)  # True\n",
    "\n",
    "# Are they pointing to the same object in memory\n",
    "print(first_list is second_list)  \n",
    "# False, since they have same values, but in different objects in memory\n",
    "\n",
    "\n",
    "third_list = first_list\n",
    "\n",
    "print(third_list is first_list)  \n",
    "# True, since both point to the same object in memory"
   ]
  },
  {
   "cell_type": "markdown",
   "id": "20d482c2-a487-4f57-82b8-d1053698c5e8",
   "metadata": {},
   "source": [
    "# 29. Merge 2 dictionaries quickly"
   ]
  },
  {
   "cell_type": "code",
   "execution_count": 23,
   "id": "41bbc53a-a2b1-4222-a7df-07762fc5ee00",
   "metadata": {},
   "outputs": [
    {
     "name": "stdout",
     "output_type": "stream",
     "text": [
      "{'a': 1, 'b': 2, 'c': 3, 'd': 4}\n"
     ]
    }
   ],
   "source": [
    "dictionary_one = {\"a\": 1, \"b\": 2}\n",
    "dictionary_two = {\"c\": 3, \"d\": 4}\n",
    "\n",
    "merged = {**dictionary_one, **dictionary_two}\n",
    "\n",
    "print(merged)  # {'a': 1, 'b': 2, 'c': 3, 'd': 4}\n"
   ]
  },
  {
   "cell_type": "markdown",
   "id": "31cc7a78-d545-49d0-b8ed-b5e3b762f9e9",
   "metadata": {},
   "source": [
    "# 30. Check whether a string is larger than another string"
   ]
  },
  {
   "cell_type": "code",
   "execution_count": 24,
   "id": "da52f778-c70c-48b4-ba67-64d99a291687",
   "metadata": {},
   "outputs": [
    {
     "name": "stdout",
     "output_type": "stream",
     "text": [
      "True\n",
      "False\n"
     ]
    }
   ],
   "source": [
    "first = \"abc\"\n",
    "second = \"def\"\n",
    "print(first < second)  # True\n",
    "second = \"ab\"\n",
    "print(first < second)  # False"
   ]
  },
  {
   "cell_type": "markdown",
   "id": "102f138c-ebda-4577-b26f-e63cb494e417",
   "metadata": {},
   "source": [
    "# 31. Check whether a string starts with a particular character without using the index 0"
   ]
  },
  {
   "cell_type": "code",
   "execution_count": 25,
   "id": "ede1a89a-a0a1-4520-b1e6-719a6720a059",
   "metadata": {},
   "outputs": [
    {
     "name": "stdout",
     "output_type": "stream",
     "text": [
      "False\n"
     ]
    }
   ],
   "source": [
    "my_string = \"abcdef\"\n",
    "print(my_string.startswith(\"b\"))  # False"
   ]
  },
  {
   "cell_type": "markdown",
   "id": "b0225424-d4b7-4d28-9e3b-d6d62b045048",
   "metadata": {},
   "source": [
    "# 32. Find the unique id of a variable using id()"
   ]
  },
  {
   "cell_type": "code",
   "execution_count": 26,
   "id": "9cd98572-9c87-4dce-b815-48c1cf6435b4",
   "metadata": {},
   "outputs": [
    {
     "name": "stdout",
     "output_type": "stream",
     "text": [
      "94607791860992\n",
      "94607791861024\n",
      "140279240972016\n"
     ]
    }
   ],
   "source": [
    "print(id(1)) \n",
    "print(id(2)) \n",
    "print(id(\"string\"))"
   ]
  },
  {
   "cell_type": "markdown",
   "id": "c03a6cf7-fe15-41a6-af44-904020332a67",
   "metadata": {},
   "source": [
    "# 33. Integers, floats, strings, booleans, and tuples are immutable\n",
    "When we assign a variable to an immutable type such as integers, floats, strings, booleans, and tuples, then this variable points to an object in memory.\n",
    "\n",
    "In case we assign to that variable another value, the original object is still in memory, but the variable pointing to it is lost:"
   ]
  },
  {
   "cell_type": "code",
   "execution_count": 27,
   "id": "1d93eb56-f4b2-46bb-b5d2-32f44d2ffba9",
   "metadata": {},
   "outputs": [
    {
     "name": "stdout",
     "output_type": "stream",
     "text": [
      "94607791860992\n",
      "94607791860992\n",
      "94607791861056\n",
      "94607791860992\n"
     ]
    }
   ],
   "source": [
    "number = 1\n",
    "print(id(number))  \n",
    "print(id(1))\n",
    "\n",
    "number = 3\n",
    "print(id(number)) \n",
    "print(id(1))"
   ]
  },
  {
   "cell_type": "markdown",
   "id": "de5a7f94-1d84-495e-aac4-e34e04ef60b3",
   "metadata": {},
   "source": [
    "# 34. Strings and tuples are immutable\n",
    "This was already mentioned in the previous point but wanted to emphasize it since this is quite important."
   ]
  },
  {
   "cell_type": "code",
   "execution_count": 28,
   "id": "4ce494a2-335e-4479-851f-a9ac00cff44d",
   "metadata": {},
   "outputs": [
    {
     "name": "stdout",
     "output_type": "stream",
     "text": [
      "140279140850416\n",
      "140279140584688\n"
     ]
    }
   ],
   "source": [
    "name = \"Fatos\"\n",
    "print(id(name)) \n",
    "name = \"fatos\"\n",
    "print(id(name))"
   ]
  },
  {
   "cell_type": "code",
   "execution_count": 29,
   "id": "13fc2a84-1a6a-42b8-9847-b7e2da41bb94",
   "metadata": {},
   "outputs": [
    {
     "name": "stdout",
     "output_type": "stream",
     "text": [
      "140279140199136\n",
      "140279140647104\n"
     ]
    }
   ],
   "source": [
    "my_tuple = (1, 2, 3, 4)\n",
    "print(id(my_tuple))  \n",
    "\n",
    "my_tuple = ('a', 'b')\n",
    "print(id(my_tuple))"
   ]
  },
  {
   "cell_type": "markdown",
   "id": "713d7853-c1ad-4493-80ce-53ccd103ca87",
   "metadata": {},
   "source": [
    "# 35. Lists, sets, and dictionaries are mutable\n",
    "This means that we can change the object without losing binding to it:"
   ]
  },
  {
   "cell_type": "code",
   "execution_count": 30,
   "id": "38c83221-cad6-45cd-9696-36fdbec4b6d6",
   "metadata": {},
   "outputs": [
    {
     "name": "stdout",
     "output_type": "stream",
     "text": [
      "140279140132864\n",
      "140279140132864\n"
     ]
    }
   ],
   "source": [
    "cities = [\"Munich\", \"Zurich\", \"London\"]\n",
    "print(id(cities))  \n",
    "\n",
    "cities.append(\"Berlin\")\n",
    "print(id(cities))"
   ]
  },
  {
   "cell_type": "markdown",
   "id": "78076825-e898-4bae-93d2-ac8854024946",
   "metadata": {},
   "source": [
    "Here is another example with sets:"
   ]
  },
  {
   "cell_type": "code",
   "execution_count": 31,
   "id": "7872ccc8-8b7e-49d2-8daf-2e8a3f24d017",
   "metadata": {},
   "outputs": [
    {
     "name": "stdout",
     "output_type": "stream",
     "text": [
      "140279166983520\n",
      "140279166983520\n"
     ]
    }
   ],
   "source": [
    "my_set = {1, 2, 3, 4}\n",
    "print(id(my_set)) \n",
    "my_set.add(5)\n",
    "print(id(my_set))"
   ]
  },
  {
   "cell_type": "markdown",
   "id": "d0b13dfd-e5ff-4a28-9a0b-0bed03a6afdb",
   "metadata": {},
   "source": [
    "# 36. You can turn a set into an immutable set\n",
    "This way, you can no longer modify it:\n",
    "\n",
    "If you do that, an error will be thrown:"
   ]
  },
  {
   "cell_type": "code",
   "execution_count": 32,
   "id": "367d7fb3-b8a4-418e-8f49-6594a120da64",
   "metadata": {},
   "outputs": [
    {
     "ename": "AttributeError",
     "evalue": "'frozenset' object has no attribute 'add'",
     "output_type": "error",
     "traceback": [
      "\u001b[0;31m---------------------------------------------------------------------------\u001b[0m",
      "\u001b[0;31mAttributeError\u001b[0m                            Traceback (most recent call last)",
      "Input \u001b[0;32mIn [32]\u001b[0m, in \u001b[0;36m<cell line: 3>\u001b[0;34m()\u001b[0m\n\u001b[1;32m      1\u001b[0m my_set \u001b[38;5;241m=\u001b[39m \u001b[38;5;28mfrozenset\u001b[39m([\u001b[38;5;124m'\u001b[39m\u001b[38;5;124ma\u001b[39m\u001b[38;5;124m'\u001b[39m, \u001b[38;5;124m'\u001b[39m\u001b[38;5;124mb\u001b[39m\u001b[38;5;124m'\u001b[39m, \u001b[38;5;124m'\u001b[39m\u001b[38;5;124mc\u001b[39m\u001b[38;5;124m'\u001b[39m, \u001b[38;5;124m'\u001b[39m\u001b[38;5;124md\u001b[39m\u001b[38;5;124m'\u001b[39m])\n\u001b[0;32m----> 3\u001b[0m \u001b[43mmy_set\u001b[49m\u001b[38;5;241;43m.\u001b[39;49m\u001b[43madd\u001b[49m(\u001b[38;5;124m\"\u001b[39m\u001b[38;5;124ma\u001b[39m\u001b[38;5;124m\"\u001b[39m)\n",
      "\u001b[0;31mAttributeError\u001b[0m: 'frozenset' object has no attribute 'add'"
     ]
    }
   ],
   "source": [
    "my_set = frozenset(['a', 'b', 'c', 'd'])\n",
    "\n",
    "my_set.add(\"a\")"
   ]
  },
  {
   "cell_type": "markdown",
   "id": "1efe17b6-be27-4b58-939e-69b808c1fe70",
   "metadata": {},
   "source": [
    "# 37. An “if-elif” block can exist without the else block at the end\n",
    "However, “elif” cannot stand on its own without an “if” step before it:"
   ]
  },
  {
   "cell_type": "code",
   "execution_count": 33,
   "id": "b35e36d9-1956-410b-acea-63bf7848bf51",
   "metadata": {},
   "outputs": [
    {
     "name": "stdout",
     "output_type": "stream",
     "text": [
      "Positive\n"
     ]
    }
   ],
   "source": [
    "def check_number(number):\n",
    "    if number > 0:\n",
    "        return \"Positive\"\n",
    "    elif number == 0:\n",
    "        return \"Zero\"\n",
    "\n",
    "    return \"Negative\"\n",
    "\n",
    "\n",
    "print(check_number(1))"
   ]
  },
  {
   "cell_type": "markdown",
   "id": "6e1190c7-561e-4c00-9281-30200eb9d0b4",
   "metadata": {},
   "source": [
    "# 38. Check whether 2 strings are anagrams using sorted()"
   ]
  },
  {
   "cell_type": "code",
   "execution_count": 34,
   "id": "2f17203d-25c7-4101-85e9-82b732e19f46",
   "metadata": {},
   "outputs": [
    {
     "name": "stdout",
     "output_type": "stream",
     "text": [
      "True\n",
      "True\n",
      "False\n"
     ]
    }
   ],
   "source": [
    "def check_if_anagram(first_word, second_word):\n",
    "    first_word = first_word.lower()\n",
    "    second_word = second_word.lower()\n",
    "    return sorted(first_word) == sorted(second_word)\n",
    "print(check_if_anagram(\"testinG\", \"Testing\"))  # True\n",
    "print(check_if_anagram(\"Here\", \"Rehe\"))  # True\n",
    "print(check_if_anagram(\"Know\", \"Now\"))  # False"
   ]
  },
  {
   "cell_type": "markdown",
   "id": "2f6b4826-6c29-4b02-a62c-2f62a95fcd56",
   "metadata": {},
   "source": [
    "# 39. Get the value of a character in Unicode"
   ]
  },
  {
   "cell_type": "code",
   "execution_count": 35,
   "id": "253e53d7-1701-4426-9bc3-999bb740797f",
   "metadata": {},
   "outputs": [
    {
     "name": "stdout",
     "output_type": "stream",
     "text": [
      "65\n",
      "66\n",
      "67\n",
      "97\n"
     ]
    }
   ],
   "source": [
    "print(ord(\"A\"))  # 65\n",
    "print(ord(\"B\"))  # 66\n",
    "print(ord(\"C\"))  # 66\n",
    "print(ord(\"a\"))  # 97"
   ]
  },
  {
   "cell_type": "markdown",
   "id": "fd6383c7-f59a-42fe-986e-6080323d4dbe",
   "metadata": {},
   "source": [
    "# 40. Get keys of a dictionary in a single line"
   ]
  },
  {
   "cell_type": "code",
   "execution_count": 36,
   "id": "ff20547a-17ba-4bab-b44d-b37335a66e63",
   "metadata": {},
   "outputs": [
    {
     "name": "stdout",
     "output_type": "stream",
     "text": [
      "['a', 'b', 'c']\n"
     ]
    }
   ],
   "source": [
    "dictionary = {\"a\": 1, \"b\": 2, \"c\": 3}\n",
    "\n",
    "keys = dictionary.keys()\n",
    "\n",
    "print(list(keys))  # ['a', 'b', 'c']"
   ]
  },
  {
   "cell_type": "markdown",
   "id": "5889e9b3-0231-4997-8ac1-cb75a6aabaf7",
   "metadata": {},
   "source": [
    "# 41. Get values of a dictionary in a single line"
   ]
  },
  {
   "cell_type": "code",
   "execution_count": 37,
   "id": "0a08d487-b23b-4201-aa2e-1017fed870fd",
   "metadata": {},
   "outputs": [
    {
     "name": "stdout",
     "output_type": "stream",
     "text": [
      "[1, 2, 3]\n"
     ]
    }
   ],
   "source": [
    "dictionary = {\"a\": 1, \"b\": 2, \"c\": 3}\n",
    "\n",
    "values = dictionary.values()\n",
    "\n",
    "print(list(values))  # [1, 2, 3]"
   ]
  },
  {
   "cell_type": "markdown",
   "id": "546291fa-82ce-4f85-b9ea-0bd8111580af",
   "metadata": {},
   "source": [
    "# 42. Swap keys and values of a dictionary"
   ]
  },
  {
   "cell_type": "code",
   "execution_count": 38,
   "id": "78635fc7-9ca8-4e8c-9988-5c7e5e92c0c2",
   "metadata": {},
   "outputs": [
    {
     "name": "stdout",
     "output_type": "stream",
     "text": [
      "<class 'reversed'>\n"
     ]
    }
   ],
   "source": [
    "dictionary = {\"a\": 1, \"b\": 2, \"c\": 3}\n",
    "\n",
    "reversed_dictionary = {j: i for i, j in dictionary.items()}\n",
    "\n",
    "print(reversed)  # {1: 'a', 2: 'b', 3: 'c'}"
   ]
  },
  {
   "cell_type": "code",
   "execution_count": 39,
   "id": "893aac27-60ac-4cc7-b39e-a769f694f045",
   "metadata": {},
   "outputs": [
    {
     "data": {
      "text/plain": [
       "{1: 'a', 2: 'b', 3: 'c'}"
      ]
     },
     "execution_count": 39,
     "metadata": {},
     "output_type": "execute_result"
    }
   ],
   "source": [
    "reversed_dictionary"
   ]
  },
  {
   "cell_type": "markdown",
   "id": "587de2d2-01d3-4ae4-9364-3f187abaed2c",
   "metadata": {},
   "source": [
    "# 43. You can convert a boolean value into a number"
   ]
  },
  {
   "cell_type": "code",
   "execution_count": 40,
   "id": "c351d731-6bb0-426f-8776-9a1991a0304f",
   "metadata": {},
   "outputs": [
    {
     "name": "stdout",
     "output_type": "stream",
     "text": [
      "0\n",
      "1.0\n"
     ]
    }
   ],
   "source": [
    "print(int(False))  # 0\n",
    "print(float(True))  # 1.0"
   ]
  },
  {
   "cell_type": "markdown",
   "id": "5a6f0871-0526-45ee-a7fc-f2503ac58e3e",
   "metadata": {},
   "source": [
    "# 44. You can use boolean values in arithmetic operations\n",
    "“False” is 0, whereas “True” is 1.\n",
    "\n"
   ]
  },
  {
   "cell_type": "code",
   "execution_count": 41,
   "id": "88455bc4-2040-45d2-8cb2-63caa858de3b",
   "metadata": {},
   "outputs": [
    {
     "name": "stdout",
     "output_type": "stream",
     "text": [
      "0.8333333333333334\n"
     ]
    }
   ],
   "source": [
    "x = 10\n",
    "y = 12\n",
    "result = (x - False)/(y * True)\n",
    "print(result)"
   ]
  },
  {
   "cell_type": "markdown",
   "id": "3e9c6b3b-6888-4e42-9841-813294e7099a",
   "metadata": {},
   "source": [
    "# 45. You can convert any data type into a boolean value"
   ]
  },
  {
   "cell_type": "code",
   "execution_count": 42,
   "id": "87b367be-8ca3-4e9c-a61e-8dbdafa6bc0d",
   "metadata": {},
   "outputs": [
    {
     "name": "stdout",
     "output_type": "stream",
     "text": [
      "False\n",
      "True\n",
      "True\n",
      "True\n",
      "True\n"
     ]
    }
   ],
   "source": [
    "print(bool(.0))  # False\n",
    "print(bool(3))  # True\n",
    "print(bool(\"-\"))  # True\n",
    "print(bool(\"string\"))  # True\n",
    "print(bool(\" \"))  # True"
   ]
  },
  {
   "cell_type": "markdown",
   "id": "51efae57-0c12-43b2-84c6-d2aeae1acff8",
   "metadata": {},
   "source": [
    "# 46. Convert a value into a complex number"
   ]
  },
  {
   "cell_type": "code",
   "execution_count": 43,
   "id": "88214646-0aba-407c-b088-b7a7af2b9c4d",
   "metadata": {},
   "outputs": [
    {
     "name": "stdout",
     "output_type": "stream",
     "text": [
      "(10+2j)\n"
     ]
    }
   ],
   "source": [
    "print(complex(10, 2)) "
   ]
  },
  {
   "cell_type": "markdown",
   "id": "f5a25ad4-2725-4cc6-a0ef-21159c886b6b",
   "metadata": {},
   "source": [
    "### You can also convert a number into a hexadecimal number:"
   ]
  },
  {
   "cell_type": "code",
   "execution_count": 44,
   "id": "b04df0a6-ffc6-4f5e-a170-7d09fa81eac7",
   "metadata": {},
   "outputs": [
    {
     "name": "stdout",
     "output_type": "stream",
     "text": [
      "0xb\n"
     ]
    }
   ],
   "source": [
    "print(hex(11))"
   ]
  },
  {
   "cell_type": "markdown",
   "id": "6df47258-eee0-42dd-8bd5-d0227ef33f01",
   "metadata": {},
   "source": [
    "# 47. Add a value in the first position in a list"
   ]
  },
  {
   "cell_type": "markdown",
   "id": "f455a487-01eb-43ef-88b3-b63331cf645b",
   "metadata": {},
   "source": [
    "If you use append(), you are going to insert new values from the right.\n",
    "\n",
    "We can also use insert() to specify the index and the element where we want to insert this new element. In our case, we want to insert it in the first position, so we use 0 as the index:"
   ]
  },
  {
   "cell_type": "code",
   "execution_count": 45,
   "id": "8df15772-f34f-4980-ac05-0f37caeabc3f",
   "metadata": {},
   "outputs": [
    {
     "name": "stdout",
     "output_type": "stream",
     "text": [
      "[2, 3, 4, 5, 6]\n"
     ]
    }
   ],
   "source": [
    "my_list = [3, 4, 5]\n",
    "\n",
    "my_list.append(6)\n",
    "my_list.insert(0, 2)\n",
    "print(my_list)"
   ]
  },
  {
   "cell_type": "markdown",
   "id": "9aae23e7-4d92-4232-8c6a-56edc45f5d09",
   "metadata": {},
   "source": [
    "# 48. Lambda functions can only be in one line\n",
    "You cannot have lambdas in more than one line.\n",
    "\n",
    "Let’s try the following:"
   ]
  },
  {
   "cell_type": "code",
   "execution_count": 47,
   "id": "dd78cbb5-1650-417d-b769-cd107b555719",
   "metadata": {},
   "outputs": [
    {
     "ename": "IndentationError",
     "evalue": "unindent does not match any outer indentation level (<tokenize>, line 3)",
     "output_type": "error",
     "traceback": [
      "\u001b[0;36m  File \u001b[0;32m<tokenize>:3\u001b[0;36m\u001b[0m\n\u001b[0;31m    else:\u001b[0m\n\u001b[0m    ^\u001b[0m\n\u001b[0;31mIndentationError\u001b[0m\u001b[0;31m:\u001b[0m unindent does not match any outer indentation level\n"
     ]
    }
   ],
   "source": [
    "comparison = lambda x: if x > 3:\n",
    "                    print(\"x > 3\")\n",
    "                else:\n",
    "                    print(\"x is not greater than 3\")"
   ]
  },
  {
   "cell_type": "markdown",
   "id": "f9690c63-5c89-4e46-a2c0-f530c0b4c1ce",
   "metadata": {},
   "source": [
    "### Correct way"
   ]
  },
  {
   "cell_type": "code",
   "execution_count": 48,
   "id": "ff3d642d-280f-4d77-a2fa-705e40a9ffa5",
   "metadata": {},
   "outputs": [],
   "source": [
    "comparison = lambda x: print(\"x > 3\") if x > 3 else print(\"x is not greater than 3\")"
   ]
  },
  {
   "cell_type": "code",
   "execution_count": 49,
   "id": "73949d77-f0c1-4377-8fa4-7fb62940e951",
   "metadata": {},
   "outputs": [
    {
     "ename": "SyntaxError",
     "evalue": "invalid syntax (975601531.py, line 1)",
     "output_type": "error",
     "traceback": [
      "\u001b[0;36m  Input \u001b[0;32mIn [49]\u001b[0;36m\u001b[0m\n\u001b[0;31m    result = lambda x: if x > 3:\u001b[0m\n\u001b[0m                       ^\u001b[0m\n\u001b[0;31mSyntaxError\u001b[0m\u001b[0;31m:\u001b[0m invalid syntax\n"
     ]
    }
   ],
   "source": [
    "result = lambda x: if x > 3:"
   ]
  },
  {
   "cell_type": "markdown",
   "id": "68c08562-d75d-48c4-ad07-8e435a871606",
   "metadata": {},
   "source": [
    "### Correct way"
   ]
  },
  {
   "cell_type": "code",
   "execution_count": 50,
   "id": "3e807725-d4a9-4ccb-ba2c-2536dcae2d3d",
   "metadata": {},
   "outputs": [],
   "source": [
    "result = lambda x: x > 3"
   ]
  },
  {
   "cell_type": "markdown",
   "id": "28790b32-9a53-4a4b-b10f-92410d40978e",
   "metadata": {},
   "source": [
    "# 49. Conditionals statements in lambda should always include the “else” part\n",
    "Let’s try the following:"
   ]
  },
  {
   "cell_type": "code",
   "execution_count": 51,
   "id": "8e297f29-6099-4091-9931-0760649272d5",
   "metadata": {},
   "outputs": [
    {
     "ename": "SyntaxError",
     "evalue": "invalid syntax (1074951401.py, line 1)",
     "output_type": "error",
     "traceback": [
      "\u001b[0;36m  Input \u001b[0;32mIn [51]\u001b[0;36m\u001b[0m\n\u001b[0;31m    comparison = lambda x: \"x > 3\" if x > 3\u001b[0m\n\u001b[0m                                            ^\u001b[0m\n\u001b[0;31mSyntaxError\u001b[0m\u001b[0;31m:\u001b[0m invalid syntax\n"
     ]
    }
   ],
   "source": [
    "comparison = lambda x: \"x > 3\" if x > 3 "
   ]
  },
  {
   "cell_type": "markdown",
   "id": "3678de1f-ed06-4433-9786-71c128c67058",
   "metadata": {},
   "source": [
    "that this is a feature of the conditional expression and not of the lambda itself."
   ]
  },
  {
   "cell_type": "markdown",
   "id": "c01159c2-bae9-4286-8302-a682ee2ba27f",
   "metadata": {},
   "source": [
    "# 50. filter() returns a new object"
   ]
  },
  {
   "cell_type": "code",
   "execution_count": 52,
   "id": "a0c44a92-665b-49e0-b759-eefecf27eb2d",
   "metadata": {},
   "outputs": [
    {
     "name": "stdout",
     "output_type": "stream",
     "text": [
      "[1, 3]\n",
      "[1, 2, 3, 4]\n"
     ]
    }
   ],
   "source": [
    "my_list = [1, 2, 3, 4]\n",
    "\n",
    "odd = filter(lambda x: x % 2 == 1, my_list)\n",
    "\n",
    "print(list(odd)) \n",
    "print(my_list) "
   ]
  },
  {
   "cell_type": "markdown",
   "id": "ed9ff3a7-c9d6-45c1-b50e-a0c084715f53",
   "metadata": {},
   "source": [
    "## 51. map() returns a new object"
   ]
  },
  {
   "cell_type": "code",
   "execution_count": 53,
   "id": "079abec4-273b-4a4e-808f-98e4fe47b049",
   "metadata": {},
   "outputs": [
    {
     "name": "stdout",
     "output_type": "stream",
     "text": [
      "[1, 4, 9, 16]\n",
      "[1, 2, 3, 4]\n"
     ]
    }
   ],
   "source": [
    "my_list = [1, 2, 3, 4]\n",
    "\n",
    "squared = map(lambda x: x ** 2, my_list)\n",
    "\n",
    "print(list(squared))   # [1, 4, 9, 16]\n",
    "print(my_list)  # [1, 2, 3, 4]\n"
   ]
  },
  {
   "cell_type": "markdown",
   "id": "105842bd-26ec-4238-b18b-fca2fd78620e",
   "metadata": {},
   "source": [
    "## 52. range() includes a step parameter that may not be known that much"
   ]
  },
  {
   "cell_type": "code",
   "execution_count": 54,
   "id": "d7e93c71-30fa-4650-b323-4e9c70b63f58",
   "metadata": {},
   "outputs": [
    {
     "name": "stdout",
     "output_type": "stream",
     "text": [
      "1 4 7 "
     ]
    }
   ],
   "source": [
    "for number in range(1, 10, 3):\n",
    "    print(number, end=\" \")\n",
    "# 1 4 7"
   ]
  },
  {
   "cell_type": "markdown",
   "id": "d44308fc-f832-4143-9934-3856f4f2de80",
   "metadata": {},
   "source": [
    "## 53. range() starts by default at 0\n",
    "\n",
    "So you don’t need to include it at all."
   ]
  },
  {
   "cell_type": "code",
   "execution_count": 55,
   "id": "8310b6cd-388f-4a15-b6f9-821c0802a36c",
   "metadata": {},
   "outputs": [
    {
     "name": "stdout",
     "output_type": "stream",
     "text": [
      "0 1 2 0 1 2 "
     ]
    }
   ],
   "source": [
    "def range_with_zero(number):\n",
    "    for i in range(0, number):\n",
    "        print(i, end=' ')\n",
    "\n",
    "\n",
    "def range_with_no_zero(number):\n",
    "    for i in range(number):\n",
    "        print(i, end=' ')\n",
    "\n",
    "\n",
    "range_with_zero(3)  # 0 1 2\n",
    "range_with_no_zero(3)  # 0 1 2"
   ]
  },
  {
   "cell_type": "markdown",
   "id": "cd32699a-490e-462e-a541-e897cf694894",
   "metadata": {},
   "source": [
    "## 54. You don’t need to compare the length with 0\n",
    "\n",
    "If the length is greater than 0, then it is by default True, so you don’t really need to compare it with 0:"
   ]
  },
  {
   "cell_type": "code",
   "execution_count": 56,
   "id": "45b6f2ce-28db-4fcc-ad61-c1673f5e86b5",
   "metadata": {},
   "outputs": [
    {
     "name": "stdout",
     "output_type": "stream",
     "text": [
      "True\n"
     ]
    }
   ],
   "source": [
    "def get_element_with_comparison(my_list):\n",
    "    if len(my_list) > 0:\n",
    "        return my_list[0]\n",
    "\n",
    "\n",
    "def get_first_element(my_list):\n",
    "    if len(my_list):\n",
    "        return my_list[0]\n",
    "\n",
    "\n",
    "elements = [1, 2, 3, 4]\n",
    "first_result = get_element_with_comparison(elements)\n",
    "second_result = get_element_with_comparison(elements)\n",
    "\n",
    "print(first_result == second_result)  # True"
   ]
  },
  {
   "cell_type": "markdown",
   "id": "f72021f1-7344-4d43-867b-a371d98d2544",
   "metadata": {},
   "source": [
    "## 55. You can define the same method multiple times inside the same scope\n",
    "However, only the last one is called, since it overrides previous ones.## "
   ]
  },
  {
   "cell_type": "code",
   "execution_count": 57,
   "id": "7f5d3534-498c-460e-b7e0-767eec3276eb",
   "metadata": {},
   "outputs": [
    {
     "name": "stdout",
     "output_type": "stream",
     "text": [
      "Third address\n"
     ]
    }
   ],
   "source": [
    "def get_address():\n",
    "    return \"First address\"\n",
    "\n",
    "\n",
    "def get_address():\n",
    "    return \"Second address\"\n",
    "\n",
    "\n",
    "def get_address():\n",
    "    return \"Third address\"\n",
    "\n",
    "\n",
    "print(get_address())  # Third address"
   ]
  },
  {
   "cell_type": "markdown",
   "id": "6cbf77db-f650-4a88-a549-9a94ccfdc339",
   "metadata": {},
   "source": [
    "## 56. You can access private properties even outside their intended scope\n"
   ]
  },
  {
   "cell_type": "code",
   "execution_count": 58,
   "id": "9d744c7d-3f38-43da-aecd-e5f92a716bae",
   "metadata": {},
   "outputs": [
    {
     "name": "stdout",
     "output_type": "stream",
     "text": [
      "62000\n"
     ]
    }
   ],
   "source": [
    "class Engineer:\n",
    "    def __init__(self, name):\n",
    "        self.name = name\n",
    "        self.__starting_salary = 62000\n",
    "\n",
    "\n",
    "dain = Engineer('Dain')\n",
    "print(dain._Engineer__starting_salary)  # 62000\n"
   ]
  },
  {
   "cell_type": "markdown",
   "id": "f9562735-3b73-4a3c-b429-7fbd2b43f0b5",
   "metadata": {},
   "source": [
    "## 57. Check the memory usage of an object"
   ]
  },
  {
   "cell_type": "code",
   "execution_count": 59,
   "id": "348b1e88-1cdf-487f-866b-d0ed78f244c6",
   "metadata": {},
   "outputs": [
    {
     "name": "stdout",
     "output_type": "stream",
     "text": [
      "56\n"
     ]
    }
   ],
   "source": [
    "import sys\n",
    "\n",
    "print(sys.getsizeof(\"bitcoin\"))  # 56"
   ]
  },
  {
   "cell_type": "markdown",
   "id": "9dbbc505-cb08-4676-b7c2-e7c86316aef5",
   "metadata": {},
   "source": [
    "## 58. You can define a method that can be called with as many parameters as you want\n"
   ]
  },
  {
   "cell_type": "code",
   "execution_count": 60,
   "id": "406feeeb-8511-49d0-80d5-471a409dc84e",
   "metadata": {},
   "outputs": [
    {
     "name": "stdout",
     "output_type": "stream",
     "text": [
      "6\n",
      "15\n",
      "28\n"
     ]
    }
   ],
   "source": [
    "def get_sum(*arguments):\n",
    "    result = 0\n",
    "    for i in arguments:\n",
    "        result += i\n",
    "    return result\n",
    "\n",
    "\n",
    "print(get_sum(1, 2, 3))  # 6\n",
    "print(get_sum(1, 2, 3, 4, 5))  # 15\n",
    "print(get_sum(1, 2, 3, 4, 5, 6, 7))  # 28"
   ]
  },
  {
   "cell_type": "markdown",
   "id": "0d5b7da4-14cc-4b9a-8df6-19e6da0a66a4",
   "metadata": {},
   "source": [
    "## 59. You can call the parent class’s initializer using super() or parent class’s name\n",
    "Calling the parent’s class initializer using super():\n",
    "\n"
   ]
  },
  {
   "cell_type": "code",
   "execution_count": 61,
   "id": "eff0558c-d7ee-410d-931c-01b7b49fa12f",
   "metadata": {},
   "outputs": [
    {
     "name": "stdout",
     "output_type": "stream",
     "text": [
      "ETH Zürich\n"
     ]
    }
   ],
   "source": [
    "class Parent:\n",
    "    def __init__(self, city, address):\n",
    "        self.city = city\n",
    "        self.address = address\n",
    "\n",
    "\n",
    "class Child(Parent):\n",
    "    def __init__(self, city, address, university):\n",
    "        super().__init__(city, address)\n",
    "        self.university = university\n",
    "\n",
    "\n",
    "child = Child('Zürich', 'Rämistrasse 101', 'ETH Zürich')\n",
    "print(child.university)  # ETH Zürich"
   ]
  },
  {
   "cell_type": "markdown",
   "id": "e6b1db53-1d7b-4928-89bd-728fa3ac3763",
   "metadata": {},
   "source": [
    "#### Calling the parent’s class using the parent class’s name:"
   ]
  },
  {
   "cell_type": "code",
   "execution_count": 62,
   "id": "ece69860-3901-4b0d-abfe-51c59d3d528f",
   "metadata": {},
   "outputs": [
    {
     "name": "stdout",
     "output_type": "stream",
     "text": [
      "ETH Zürich\n"
     ]
    }
   ],
   "source": [
    "class Parent:\n",
    "    def __init__(self, city, address):\n",
    "        self.city = city\n",
    "        self.address = address\n",
    "\n",
    "\n",
    "class Child(Parent):\n",
    "    def __init__(self, city, address, university):\n",
    "        Parent.__init__(self, city, address)\n",
    "        self.university = university\n",
    "\n",
    "\n",
    "child = Child('Zürich', 'Rämistrasse 101', 'ETH Zürich')\n",
    "print(child.university)  # ETH Zürich"
   ]
  },
  {
   "cell_type": "markdown",
   "id": "9588d79c-69c5-492f-9799-45159e25d037",
   "metadata": {},
   "source": [
    "#### Note that calls to parent initializers using __init__() and super() can only be used inside the child class’s initializer."
   ]
  },
  {
   "cell_type": "markdown",
   "id": "b5a454e9-ac92-4f19-9db6-a0108cad6dac",
   "metadata": {},
   "source": [
    "## 60. You can redefine the “+” operator inside your own classes\n",
    "\n",
    "Whenever you use the + operator between two int data types, then you are going to find their sum.\n",
    "\n",
    "However, when you use it between two string data types, you are going to merge them:"
   ]
  },
  {
   "cell_type": "code",
   "execution_count": 63,
   "id": "c7d97bd3-5d5f-4225-9a43-5ce3a31f26bf",
   "metadata": {},
   "outputs": [
    {
     "name": "stdout",
     "output_type": "stream",
     "text": [
      "11\n",
      "firstsecond\n"
     ]
    }
   ],
   "source": [
    "print(10 + 1)  # Adding two integers using '+'\n",
    "print('first' + 'second')  # Merging two strings '+'"
   ]
  },
  {
   "cell_type": "markdown",
   "id": "8bddc7d9-62fb-4a95-92d5-03b9c17af20d",
   "metadata": {},
   "source": [
    "#### This represents the operator overloading.\n",
    "\n",
    "#### You can also use it with your own classes as well:"
   ]
  },
  {
   "cell_type": "code",
   "execution_count": 64,
   "id": "2c1ac359-1df4-4f84-b673-16fec985d962",
   "metadata": {},
   "outputs": [
    {
     "name": "stdout",
     "output_type": "stream",
     "text": [
      "2000\n",
      "500\n"
     ]
    }
   ],
   "source": [
    "class Expenses:\n",
    "    def __init__(self, rent, groceries):\n",
    "        self.rent = rent\n",
    "        self.groceries = groceries\n",
    "\n",
    "    def __add__(self, other):\n",
    "        return Expenses(self.rent + other.rent,\n",
    "                        self.groceries + other.groceries)\n",
    "\n",
    "\n",
    "april_expenses = Expenses(1000, 200)\n",
    "may_expenses = Expenses(1000, 300)\n",
    "\n",
    "total_expenses = april_expenses + may_expenses\n",
    "print(total_expenses.rent)  # 2000\n",
    "print(total_expenses.groceries)  # 500"
   ]
  },
  {
   "cell_type": "markdown",
   "id": "804a3d3b-eeb3-4254-8d70-55c89e4af616",
   "metadata": {},
   "source": [
    "## 61. You can also redefine the “<” and “==” operators inside your own classes\n",
    "Here is another example of an operation overloadding that you can define yourself:"
   ]
  },
  {
   "cell_type": "code",
   "execution_count": 65,
   "id": "7df86874-1df8-4926-8fc8-a45a460c5fee",
   "metadata": {},
   "outputs": [
    {
     "name": "stdout",
     "output_type": "stream",
     "text": [
      "True\n"
     ]
    }
   ],
   "source": [
    "class Game:\n",
    "    def __init__(self, score):\n",
    "        self.score = score\n",
    "\n",
    "    def __lt__(self, other):\n",
    "        return self.score < other.score\n",
    "\n",
    "\n",
    "first = Game(1)\n",
    "second = Game(2)\n",
    "\n",
    "print(first < second)  # True\n"
   ]
  },
  {
   "cell_type": "markdown",
   "id": "584733c6-55dc-4eb4-9215-d2b7a89d055b",
   "metadata": {},
   "source": [
    "#### we can override the __eq__() function based on our own needs:"
   ]
  },
  {
   "cell_type": "code",
   "execution_count": 66,
   "id": "b4502bbf-608e-41cc-9f36-d4ce124d4349",
   "metadata": {},
   "outputs": [
    {
     "name": "stdout",
     "output_type": "stream",
     "text": [
      "False\n"
     ]
    }
   ],
   "source": [
    "class Journey:\n",
    "    def __init__(self, location, destination, duration):\n",
    "        self.location = location\n",
    "        self.destination = destination\n",
    "        self.duration = duration\n",
    "\n",
    "    def __eq__(self, other):\n",
    "        return ((self.location == other.location) and\n",
    "                (self.destination == other.destination) and\n",
    "                (self.duration == other.duration))\n",
    "\n",
    "\n",
    "first = Journey('Location A', 'Destination A', '30min')\n",
    "second = Journey('Location B', 'Destination B', '30min')\n",
    "\n",
    "print(first == second)"
   ]
  },
  {
   "cell_type": "markdown",
   "id": "a3e7cd64-1fda-42cd-9376-627a9170b20a",
   "metadata": {},
   "source": [
    "#### You can also analogously define:\n",
    "\n",
    "__sub__() for -\n",
    "\n",
    "__mul__() for *\n",
    "\n",
    "__truediv__() for /\n",
    "\n",
    "__ne__() for !=\n",
    "\n",
    "__ge__() for >=\n",
    "\n",
    "__gt__() for >"
   ]
  },
  {
   "cell_type": "markdown",
   "id": "5fa1cce7-6aa8-49b6-b940-c38e574bad63",
   "metadata": {},
   "source": [
    "## 62. You can define a custom printable version for an object of a class\n"
   ]
  },
  {
   "cell_type": "code",
   "execution_count": 67,
   "id": "3ba9ad92-bbbb-47e4-b158-eb2ccf16c435",
   "metadata": {},
   "outputs": [
    {
     "name": "stdout",
     "output_type": "stream",
     "text": [
      "'Rectangle with area=12'\n"
     ]
    }
   ],
   "source": [
    "class Rectangle:\n",
    "    def __init__(self, a, b):\n",
    "        self.a = a\n",
    "        self.b = b\n",
    "\n",
    "    def __repr__(self):\n",
    "        return repr('Rectangle with area=' + str(self.a * self.b))\n",
    "\n",
    "\n",
    "print(Rectangle(3, 4))"
   ]
  },
  {
   "cell_type": "markdown",
   "id": "dedde76b-e82d-46bc-97b1-6f495b8b5d8a",
   "metadata": {},
   "source": [
    "## 63. Swap cases of characters in a string\n"
   ]
  },
  {
   "cell_type": "code",
   "execution_count": 68,
   "id": "8df7ec44-5ea2-4b5d-b842-656f3f727820",
   "metadata": {},
   "outputs": [
    {
     "name": "stdout",
     "output_type": "stream",
     "text": [
      "tHIS IS JUST A SENTENCE.\n"
     ]
    }
   ],
   "source": [
    "string = \"This is just a sentence.\"\n",
    "result = string.swapcase()\n",
    "print(result) "
   ]
  },
  {
   "cell_type": "markdown",
   "id": "da1df879-020e-4d64-bb2b-fd45c644a70d",
   "metadata": {},
   "source": [
    "## 64. Check if all characters are white spaces in a string"
   ]
  },
  {
   "cell_type": "code",
   "execution_count": 69,
   "id": "6b013692-0122-4890-b905-918faae9c74a",
   "metadata": {},
   "outputs": [
    {
     "name": "stdout",
     "output_type": "stream",
     "text": [
      "True\n"
     ]
    }
   ],
   "source": [
    "string = \"  \"\n",
    "result = string.isspace()\n",
    "print(result)"
   ]
  },
  {
   "cell_type": "markdown",
   "id": "f3638134-aea9-4fcc-b4fa-c90add9a0d73",
   "metadata": {},
   "source": [
    "## 65. Check if all characters in a string are either alphabets or numbers"
   ]
  },
  {
   "cell_type": "code",
   "execution_count": 70,
   "id": "a727295c-5bc8-4bf2-9521-57fb11e7a33b",
   "metadata": {},
   "outputs": [
    {
     "name": "stdout",
     "output_type": "stream",
     "text": [
      "True\n",
      "False\n",
      "True\n",
      "True\n"
     ]
    }
   ],
   "source": [
    "name = \"Password\"\n",
    "print(name.isalnum())  # True, because all characters are alphabets\n",
    "name = \"Secure Password \"\n",
    "print(name.isalnum())  # False, because it contains whitespaces\n",
    "name = \"S3cur3P4ssw0rd\"\n",
    "print(name.isalnum())  # True\n",
    "name = \"133\"\n",
    "print(name.isalnum())  # True, because all characters are numbers"
   ]
  },
  {
   "cell_type": "markdown",
   "id": "dd7eedcb-773d-491f-81c2-ef59a938eda1",
   "metadata": {},
   "source": [
    "## 66. Check if all characters in a string are alphabets"
   ]
  },
  {
   "cell_type": "code",
   "execution_count": 71,
   "id": "43c2ec21-017a-4c57-8df8-9bee42b3b173",
   "metadata": {},
   "outputs": [
    {
     "name": "stdout",
     "output_type": "stream",
     "text": [
      "True\n",
      "False\n",
      "False\n"
     ]
    }
   ],
   "source": [
    "string = \"Name\"\n",
    "print(string.isalpha())  # True\n",
    "string = \"Firstname Lastname\"\n",
    "print(string.isalpha())  # False, because it contains whitespace\n",
    "string = \"P4ssw0rd\"\n",
    "print(string.isalpha())  # False, because it contains numbers"
   ]
  },
  {
   "cell_type": "markdown",
   "id": "4dbc259e-3b1d-46a9-b3ed-d58316ce7aed",
   "metadata": {},
   "source": [
    "## 67. Remove characters from the right based on the argument\n"
   ]
  },
  {
   "cell_type": "code",
   "execution_count": 72,
   "id": "935e5abf-90c8-4073-90bf-b845b4dc61f7",
   "metadata": {},
   "outputs": [
    {
     "name": "stdout",
     "output_type": "stream",
     "text": [
      "This is a sentence with\n",
      "this here is a sentence…\n"
     ]
    }
   ],
   "source": [
    "string = \"This is a sentence with       \"\n",
    "# Remove trailing spaces from the right\n",
    "print(string.rstrip())  # \"This is a sentence with\"\n",
    "string = \"this here is a sentence…..,,,,aaaaasd\"\n",
    "print(string.rstrip(\".,dsa\"))  # \"this here is a sentence\""
   ]
  },
  {
   "cell_type": "markdown",
   "id": "e72e2e35-263b-4025-9aac-4be1d4db3ef4",
   "metadata": {},
   "source": [
    "### You can similarly remove characters from the left based on the argument:"
   ]
  },
  {
   "cell_type": "code",
   "execution_count": 73,
   "id": "f68a8713-c546-4c00-8e4b-cf32b55b3027",
   "metadata": {},
   "outputs": [
    {
     "name": "stdout",
     "output_type": "stream",
     "text": [
      "First\n"
     ]
    }
   ],
   "source": [
    "string = \"ffffffffFirst\"\n",
    "print(string.lstrip(\"f\"))  # First"
   ]
  },
  {
   "cell_type": "markdown",
   "id": "934baafa-c946-4eef-a0a8-f125ee37c13e",
   "metadata": {},
   "source": [
    "## 68. Check if a string represents a number"
   ]
  },
  {
   "cell_type": "code",
   "execution_count": 74,
   "id": "8071a4b6-b7dd-456a-a6ff-e019ef6989d8",
   "metadata": {},
   "outputs": [
    {
     "name": "stdout",
     "output_type": "stream",
     "text": [
      "False\n",
      "True\n",
      "False\n",
      "False\n"
     ]
    }
   ],
   "source": [
    "string = \"seven\"\n",
    "print(string.isdigit())  # False\n",
    "string = \"1337\"\n",
    "print(string.isdigit())  # True\n",
    "string = \"5a\"\n",
    "print(string.isdigit())  # False, because it contains the character 'a'\n",
    "string = \"2**5\"\n",
    "print(string.isdigit())  # False"
   ]
  },
  {
   "cell_type": "markdown",
   "id": "4faca5b0-61b4-434a-9ece-bad2803abf02",
   "metadata": {},
   "source": [
    "## 69. Check if a string represents a Chinese number"
   ]
  },
  {
   "cell_type": "code",
   "execution_count": 75,
   "id": "2cc374bd-847f-421a-840b-72730bd6a30a",
   "metadata": {},
   "outputs": [
    {
     "name": "stdout",
     "output_type": "stream",
     "text": [
      "False\n",
      "True\n"
     ]
    }
   ],
   "source": [
    "# 42673 in Arabic numerals\n",
    "string = \"四二六七三\"\n",
    "\n",
    "print(string.isdigit())  # False\n",
    "print(string.isnumeric())  # True"
   ]
  },
  {
   "cell_type": "markdown",
   "id": "11999061-5d72-4831-b02c-67a285ea8fb2",
   "metadata": {},
   "source": [
    "## 70. Check if a string has all its words starting with an uppercase character\n"
   ]
  },
  {
   "cell_type": "code",
   "execution_count": 76,
   "id": "e91fe340-49ba-420a-a9a7-ce0d36bfab2a",
   "metadata": {},
   "outputs": [
    {
     "name": "stdout",
     "output_type": "stream",
     "text": [
      "False\n",
      "True\n",
      "False\n",
      "False\n"
     ]
    }
   ],
   "source": [
    "string = \"This is a sentence\"\n",
    "print(string.istitle())  # False\n",
    "\n",
    "string = \"10 Python Tips\"\n",
    "print(string.istitle())  # True\n",
    "\n",
    "string = \"How to Print A String in Python\"\n",
    "# False, because of the first characters being lowercase in \"to\" and \"in\"\n",
    "print(string.istitle())\n",
    "\n",
    "string = \"PYTHON\"\n",
    "print(string.istitle())  # False. It's titlelized version is \"Python\"\n"
   ]
  },
  {
   "cell_type": "markdown",
   "id": "940e4f4c-6346-42f6-8a52-00eceb1c348c",
   "metadata": {},
   "source": [
    "## 71. Condition inside the print function"
   ]
  },
  {
   "cell_type": "code",
   "execution_count": 77,
   "id": "fca8dcde-337c-4e91-a032-3b6942b2a9ab",
   "metadata": {},
   "outputs": [
    {
     "name": "stdout",
     "output_type": "stream",
     "text": [
      "Negative\n"
     ]
    }
   ],
   "source": [
    "def is_positive(number):\n",
    "    print(\"Positive\" if number > 0 else \"Negative\")  # Positive\n",
    "\n",
    "\n",
    "is_positive(-3)"
   ]
  },
  {
   "cell_type": "markdown",
   "id": "a40dcc53-9290-46e2-a87a-dc55f92db36e",
   "metadata": {},
   "source": [
    "## 72. Multiple conditions at a single if-statement"
   ]
  },
  {
   "cell_type": "code",
   "execution_count": 78,
   "id": "f0f5da95-3952-4aef-bf94-9125a5f74515",
   "metadata": {},
   "outputs": [
    {
     "name": "stdout",
     "output_type": "stream",
     "text": [
      "Congratulations! You have passed all of the exams.\n"
     ]
    }
   ],
   "source": [
    "math_points = 51\n",
    "biology_points = 78\n",
    "physics_points = 56\n",
    "history_points = 72\n",
    "\n",
    "my_conditions = [math_points > 50, biology_points > 50,\n",
    "                 physics_points > 50, history_points > 50]\n",
    "\n",
    "if all(my_conditions):\n",
    "    print(\"Congratulations! You have passed all of the exams.\")\n",
    "else:\n",
    "    print(\"I am sorry, but it seems that you have to repeat at least one exam.\")\n"
   ]
  },
  {
   "cell_type": "markdown",
   "id": "231cd02e-8d14-4969-96d1-df163c0d31f9",
   "metadata": {},
   "source": [
    "## 73. At least one condition is met out of many in a single if-statement"
   ]
  },
  {
   "cell_type": "code",
   "execution_count": 79,
   "id": "57bea07b-28de-46bc-8897-0977e701b3d2",
   "metadata": {},
   "outputs": [
    {
     "name": "stdout",
     "output_type": "stream",
     "text": [
      "Congratulations! You have passed all of the exams.\n"
     ]
    }
   ],
   "source": [
    "math_points = 51\n",
    "biology_points = 78\n",
    "physics_points = 56\n",
    "history_points = 72\n",
    "\n",
    "my_conditions = [math_points > 50, biology_points > 50,\n",
    "                 physics_points > 50, history_points > 50]\n",
    "\n",
    "if any(my_conditions):\n",
    "    print(\"Congratulations! You have passed all of the exams.\")\n",
    "else:\n",
    "    print(\"I am sorry, but it seems that you have to repeat at least one exam.\")\n",
    "# Congratulations! You have passed all of the exams."
   ]
  },
  {
   "cell_type": "markdown",
   "id": "cc81297e-8462-4883-9ec8-78ceecf4c331",
   "metadata": {},
   "source": [
    "## 74. Any non-empty string is evaluated to True"
   ]
  },
  {
   "cell_type": "code",
   "execution_count": 80,
   "id": "44bdc9a9-3f7d-43c4-b114-275bd9764fd7",
   "metadata": {},
   "outputs": [
    {
     "name": "stdout",
     "output_type": "stream",
     "text": [
      "True\n",
      "False\n"
     ]
    }
   ],
   "source": [
    "print(bool(\"Non empty\"))  # True\n",
    "print(bool(\"\"))  # False"
   ]
  },
  {
   "cell_type": "markdown",
   "id": "45c48412-0223-4144-8a96-125be7a31ca9",
   "metadata": {},
   "source": [
    "## 75. Any non-empty list, tuple, or dictionary is evaluated to True"
   ]
  },
  {
   "cell_type": "code",
   "execution_count": 81,
   "id": "4ccf4986-4ae9-423e-8d8c-f7a0721ec3af",
   "metadata": {},
   "outputs": [
    {
     "name": "stdout",
     "output_type": "stream",
     "text": [
      "False\n",
      "False\n",
      "False\n",
      "True\n"
     ]
    }
   ],
   "source": [
    "print(bool([]))  # False\n",
    "print(bool(set([])))  # False\n",
    "\n",
    "print(bool({}))  # False\n",
    "print(bool({\"a\": 1}))  # True"
   ]
  },
  {
   "cell_type": "markdown",
   "id": "a4d80444-0876-4833-8ea5-8291dc14cbb0",
   "metadata": {},
   "source": [
    "## 76. Other values that evaluate to False are None, “False” and the number 0\n"
   ]
  },
  {
   "cell_type": "code",
   "execution_count": 82,
   "id": "d386009a-5415-4929-a950-2c27d7538065",
   "metadata": {},
   "outputs": [
    {
     "name": "stdout",
     "output_type": "stream",
     "text": [
      "False\n",
      "False\n",
      "False\n"
     ]
    }
   ],
   "source": [
    "print(bool(False))  # False\n",
    "print(bool(None))  # False\n",
    "print(bool(0))  # False"
   ]
  },
  {
   "cell_type": "markdown",
   "id": "2e16d7b0-42aa-4011-81c0-0081684c8a15",
   "metadata": {},
   "source": [
    "## 77. You cannot change the value of a global variable just by mentioning it inside a function\n"
   ]
  },
  {
   "cell_type": "code",
   "execution_count": 83,
   "id": "c3c46591-d9ca-4962-b4f1-88f4dc03c452",
   "metadata": {},
   "outputs": [
    {
     "name": "stdout",
     "output_type": "stream",
     "text": [
      "string\n"
     ]
    }
   ],
   "source": [
    "string = \"string\"\n",
    "\n",
    "\n",
    "def do_nothing():\n",
    "  string = \"inside a method\"\n",
    "\n",
    "\n",
    "do_nothing()\n",
    "\n",
    "print(string)  # string"
   ]
  },
  {
   "cell_type": "markdown",
   "id": "9a3ed139-5f83-42ce-889a-3c4de6c93e69",
   "metadata": {},
   "source": [
    "### You need to use the access modifier global as well:"
   ]
  },
  {
   "cell_type": "code",
   "execution_count": 84,
   "id": "77ad1c0c-c86c-4253-8dee-06fbf538e235",
   "metadata": {},
   "outputs": [
    {
     "name": "stdout",
     "output_type": "stream",
     "text": [
      "inside a method\n"
     ]
    }
   ],
   "source": [
    "string = \"string\"\n",
    "\n",
    "\n",
    "def do_nothing():\n",
    "    global string\n",
    "    string = \"inside a method\"\n",
    "\n",
    "\n",
    "do_nothing()\n",
    "\n",
    "print(string)  # inside a method\n"
   ]
  },
  {
   "cell_type": "markdown",
   "id": "04193575-64cf-4c0a-9d27-1a0ca7a706f9",
   "metadata": {},
   "source": [
    "## 78. Count the number of elements in a string or list using Counter from “collections”\n"
   ]
  },
  {
   "cell_type": "code",
   "execution_count": 85,
   "id": "7d112cd5-2f6e-447b-9311-5563b0602f67",
   "metadata": {},
   "outputs": [
    {
     "name": "stdout",
     "output_type": "stream",
     "text": [
      "Counter({'a': 3, 'n': 2, 'B': 1})\n",
      "Counter({1: 5, 2: 1, 3: 1, 4: 1, 5: 1, 6: 1})\n"
     ]
    }
   ],
   "source": [
    "from collections import Counter\n",
    "\n",
    "result = Counter(\"Banana\")\n",
    "print(result)  # Counter({'a': 3, 'n': 2, 'B': 1})\n",
    "\n",
    "\n",
    "result = Counter([1, 2, 1, 3, 1, 4, 1, 5, 1, 6])\n",
    "print(result)  # Counter({1: 5, 2: 1, 3: 1, 4: 1, 5: 1, 6: 1})"
   ]
  },
  {
   "cell_type": "markdown",
   "id": "b82d38fc-4a1d-49a8-9ed7-a61a19d32330",
   "metadata": {},
   "source": [
    "## 79. Check if 2 strings are anagrams using Counter"
   ]
  },
  {
   "cell_type": "code",
   "execution_count": 86,
   "id": "de04fad8-fd3c-4a84-8187-825b840263c2",
   "metadata": {},
   "outputs": [
    {
     "name": "stdout",
     "output_type": "stream",
     "text": [
      "True\n",
      "True\n",
      "False\n"
     ]
    }
   ],
   "source": [
    "from collections import Counter\n",
    "\n",
    "\n",
    "def check_if_anagram(first_string, second_string):\n",
    "    first_string = first_string.lower()\n",
    "    second_string = second_string.lower()\n",
    "    return Counter(first_string) == Counter(second_string)\n",
    "\n",
    "\n",
    "print(check_if_anagram('testinG', 'Testing'))  # True\n",
    "print(check_if_anagram('Here', 'Rehe'))  # True\n",
    "print(check_if_anagram('Know', 'Now'))  # False"
   ]
  },
  {
   "cell_type": "markdown",
   "id": "f10e0bd1-6a90-4e7e-a5ad-f42270a93d10",
   "metadata": {},
   "source": [
    "### You can also check whether 2 strings are anagrams using sorted():\n",
    "\n"
   ]
  },
  {
   "cell_type": "code",
   "execution_count": 87,
   "id": "d83c0275-2370-41d2-8d22-b4cb63979ef5",
   "metadata": {},
   "outputs": [
    {
     "name": "stdout",
     "output_type": "stream",
     "text": [
      "True\n",
      "True\n",
      "False\n"
     ]
    }
   ],
   "source": [
    "def check_if_anagram(first_word, second_word):\n",
    "    first_word = first_word.lower()\n",
    "    second_word = second_word.lower()\n",
    "    return sorted(first_word) == sorted(second_word)\n",
    "print(check_if_anagram(\"testinG\", \"Testing\"))  # True\n",
    "print(check_if_anagram(\"Here\", \"Rehe\"))  # True\n",
    "print(check_if_anagram(\"Know\", \"Now\"))  # False"
   ]
  },
  {
   "cell_type": "markdown",
   "id": "8a60bbc9-23b0-4c34-979b-e1e1ac7a0d95",
   "metadata": {},
   "source": [
    "## 80. Count the number of elements using “count” from “itertools”"
   ]
  },
  {
   "cell_type": "code",
   "execution_count": 88,
   "id": "949ccf10-1ee0-4842-9850-f5cea86570ba",
   "metadata": {},
   "outputs": [
    {
     "name": "stdout",
     "output_type": "stream",
     "text": [
      "Current vowel: i\n",
      "Number of vowels found so far: 0\n",
      "Current vowel: i\n",
      "Number of vowels found so far: 1\n",
      "Current vowel: u\n",
      "Number of vowels found so far: 2\n",
      "Current vowel: a\n",
      "Number of vowels found so far: 3\n",
      "Current vowel: e\n",
      "Number of vowels found so far: 4\n",
      "Current vowel: e\n",
      "Number of vowels found so far: 5\n",
      "Current vowel: e\n",
      "Number of vowels found so far: 6\n"
     ]
    }
   ],
   "source": [
    "from itertools import count\n",
    "\n",
    "my_vowels = ['a', 'e', 'i', 'o', 'u', 'A', 'E', 'I', 'O', 'U']\n",
    "\n",
    "current_counter = count()\n",
    "\n",
    "string = \"This is just a sentence.\"\n",
    "\n",
    "for i in string:\n",
    "    if i in my_vowels:\n",
    "        print(f\"Current vowel: {i}\")\n",
    "        print(f\"Number of vowels found so far: {next(current_counter)}\")"
   ]
  },
  {
   "cell_type": "markdown",
   "id": "2410a47a-ad37-4436-9950-9bae0e9c0a26",
   "metadata": {},
   "source": [
    "## 81. We can use negative indexes in tuples too"
   ]
  },
  {
   "cell_type": "code",
   "execution_count": 89,
   "id": "b40a2482-6a57-4e4f-b1c1-1bed6fc9903e",
   "metadata": {},
   "outputs": [
    {
     "name": "stdout",
     "output_type": "stream",
     "text": [
      "4\n",
      "1\n"
     ]
    }
   ],
   "source": [
    "numbers = (1, 2, 3, 4)\n",
    "\n",
    "print(numbers[-1])  \n",
    "print(numbers[-4])"
   ]
  },
  {
   "cell_type": "markdown",
   "id": "3e8466a9-8ba0-4568-ad0c-4d6e9c788b4a",
   "metadata": {},
   "source": [
    "## 82. Nest a list and a tuple inside a tuple"
   ]
  },
  {
   "cell_type": "code",
   "execution_count": 90,
   "id": "b004828a-7e07-4199-801e-56f79d0b79aa",
   "metadata": {},
   "outputs": [
    {
     "name": "stdout",
     "output_type": "stream",
     "text": [
      "['first', 'second', 'third']\n",
      "('aaaaaaaaaa', 3, 4)\n"
     ]
    }
   ],
   "source": [
    "mixed_tuple = ((\"a\"*10, 3, 4), ['first', 'second', 'third'])\n",
    "\n",
    "print(mixed_tuple[1])\n",
    "print(mixed_tuple[0])"
   ]
  },
  {
   "cell_type": "markdown",
   "id": "ff4a3fd8-7df0-4ef9-a340-7d39e3983f34",
   "metadata": {},
   "source": [
    "## 83. Quickly count the number of times an element appears in a list that satisfies a condition"
   ]
  },
  {
   "cell_type": "code",
   "execution_count": 91,
   "id": "17e2fb07-99c1-4713-8f38-798b3214281a",
   "metadata": {},
   "outputs": [
    {
     "name": "stdout",
     "output_type": "stream",
     "text": [
      "2\n"
     ]
    }
   ],
   "source": [
    "names = [\"Besim\", \"Albert\", \"Besim\", \"Fisnik\", \"Meriton\"]\n",
    "\n",
    "print(names.count(\"Besim\"))"
   ]
  },
  {
   "cell_type": "markdown",
   "id": "cdd17d75-84c6-4279-a099-01f87843b95d",
   "metadata": {},
   "source": [
    "## 84. You can easily get the last n elements using slice()"
   ]
  },
  {
   "cell_type": "code",
   "execution_count": 92,
   "id": "cd9a2594-8fa6-499c-aaf6-d3e445d655a7",
   "metadata": {},
   "outputs": [
    {
     "name": "stdout",
     "output_type": "stream",
     "text": [
      "[7, 8, 9, 10]\n",
      "8\n"
     ]
    }
   ],
   "source": [
    "my_list = [1, 2, 3, 4, 5, 6, 7, 8, 9, 10]\n",
    "slicing = slice(-4, None)\n",
    "# Getting the last 3 elements from the list\n",
    "print(my_list[slicing])  # [4, 5, 6]\n",
    "# Getting only the third element starting from the right\n",
    "print(my_list[-3]) "
   ]
  },
  {
   "cell_type": "markdown",
   "id": "e9c7dddf-e17a-4b3c-b391-3df2aad201a0",
   "metadata": {},
   "source": [
    "### You can also use slice() for other usual slicing tasks, like:"
   ]
  },
  {
   "cell_type": "code",
   "execution_count": 93,
   "id": "510b5e3c-29a5-4cc4-9bce-5cbbbfee2409",
   "metadata": {},
   "outputs": [
    {
     "name": "stdout",
     "output_type": "stream",
     "text": [
      "Science\n"
     ]
    }
   ],
   "source": [
    "string = \"Data Science\"\n",
    "# start = 1, stop = None (don't stop anywhere), step = 1\n",
    "# contains 1, 3 and 5 indices\n",
    "slice_object = slice(5, None)\n",
    "print(string[slice_object]) "
   ]
  },
  {
   "cell_type": "markdown",
   "id": "b1db4cc4-8b63-461e-b006-e0e2f3aabcbc",
   "metadata": {},
   "source": [
    "## 85. Count the number of times an element appears in a tuple"
   ]
  },
  {
   "cell_type": "code",
   "execution_count": 94,
   "id": "a3c70682-2f62-44f7-87e9-298d2cdb1a59",
   "metadata": {},
   "outputs": [
    {
     "name": "stdout",
     "output_type": "stream",
     "text": [
      "3\n"
     ]
    }
   ],
   "source": [
    "my_tuple = ('a', 1, 'f', 'a', 5, 'a')\n",
    "\n",
    "print(my_tuple.count('a'))"
   ]
  },
  {
   "cell_type": "markdown",
   "id": "1ca2364f-6c69-4ecb-8111-0ba083f18d5a",
   "metadata": {},
   "source": [
    "## 86. Get the index of an element in a tuple"
   ]
  },
  {
   "cell_type": "code",
   "execution_count": 95,
   "id": "99d5154d-b0a4-4bc2-93cd-daf37fc9dca1",
   "metadata": {},
   "outputs": [
    {
     "name": "stdout",
     "output_type": "stream",
     "text": [
      "2\n"
     ]
    }
   ],
   "source": [
    "my_tuple = ('a', 1, 'f', 'a', 5, 'a')\n",
    "print(my_tuple.index('f'))"
   ]
  },
  {
   "cell_type": "markdown",
   "id": "981b73b0-e4e9-4848-948b-3f476c5f16b2",
   "metadata": {},
   "source": [
    "## 87. Get sub-tuples by making jumps\n"
   ]
  },
  {
   "cell_type": "code",
   "execution_count": 96,
   "id": "0460d3a0-4542-4b2b-807a-776cd4cef8d3",
   "metadata": {},
   "outputs": [
    {
     "name": "stdout",
     "output_type": "stream",
     "text": [
      "(1, 4, 7, 10)\n"
     ]
    }
   ],
   "source": [
    "my_tuple = (1, 2, 3, 4, 5, 6, 7, 8, 9, 10)\n",
    "print(my_tuple[::3])"
   ]
  },
  {
   "cell_type": "markdown",
   "id": "636d09bc-42d6-4c01-9740-e3a8c99aba54",
   "metadata": {},
   "source": [
    "## 88. Get sub-tuples starting from an index"
   ]
  },
  {
   "cell_type": "code",
   "execution_count": 97,
   "id": "db12474e-d137-435f-9672-9c4a4d8b4514",
   "metadata": {},
   "outputs": [
    {
     "name": "stdout",
     "output_type": "stream",
     "text": [
      "(4, 5, 6, 7, 8, 9, 10)\n"
     ]
    }
   ],
   "source": [
    "my_tuple = (1, 2, 3, 4, 5, 6, 7, 8, 9, 10)\n",
    "print(my_tuple[3:])"
   ]
  },
  {
   "cell_type": "markdown",
   "id": "52ac4488-c04d-466e-9fc4-7501e6829142",
   "metadata": {},
   "source": [
    "## 89. Remove all elements from a list, set, or dictionary"
   ]
  },
  {
   "cell_type": "code",
   "execution_count": 98,
   "id": "93e8f360-6e28-4410-8d11-268d1c187c0b",
   "metadata": {},
   "outputs": [
    {
     "name": "stdout",
     "output_type": "stream",
     "text": [
      "[]\n",
      "set()\n",
      "{}\n"
     ]
    }
   ],
   "source": [
    "my_list = [1, 2, 3, 4]\n",
    "my_list.clear()\n",
    "print(my_list)  # []\n",
    "\n",
    "my_set = {1, 2, 3}\n",
    "my_set.clear()\n",
    "print(my_set)  # set()\n",
    "\n",
    "my_dict = {\"a\": 1, \"b\": 2}\n",
    "my_dict.clear()\n",
    "print(my_dict) "
   ]
  },
  {
   "cell_type": "markdown",
   "id": "899b62f5-00db-4147-b557-026ddaa07836",
   "metadata": {},
   "source": [
    "## 90. Join 2 sets\n",
    "### One way is to use the method union() which returns a new set as a result of the joining:"
   ]
  },
  {
   "cell_type": "code",
   "execution_count": 99,
   "id": "0ff2c375-0a1c-4919-989f-ec5ddab88138",
   "metadata": {},
   "outputs": [
    {
     "name": "stdout",
     "output_type": "stream",
     "text": [
      "{1, 2, 3, 4, 5, 6}\n"
     ]
    }
   ],
   "source": [
    "first_set = {4, 5, 6}\n",
    "second_set = {1, 2, 3}\n",
    "\n",
    "print(first_set.union(second_set))"
   ]
  },
  {
   "cell_type": "markdown",
   "id": "9a0ca82a-0f7a-4d59-ad10-c62054af83cf",
   "metadata": {},
   "source": [
    "### Another one is method update, which inserts the element of the second set into the first one:"
   ]
  },
  {
   "cell_type": "code",
   "execution_count": 100,
   "id": "bebb391b-d9c6-4b73-9d76-fbbc65cf985c",
   "metadata": {},
   "outputs": [
    {
     "name": "stdout",
     "output_type": "stream",
     "text": [
      "{1, 2, 3, 4, 5, 6}\n"
     ]
    }
   ],
   "source": [
    "first_set = {4, 5, 6}\n",
    "second_set = {1, 2, 3}\n",
    "\n",
    "first_set.update(second_set)\n",
    "\n",
    "print(first_set)"
   ]
  },
  {
   "cell_type": "markdown",
   "id": "21aee2b2-b4c8-47c6-bd70-7589a1aa5aef",
   "metadata": {},
   "source": [
    "## 91. Sort elements of a string or list based on their frequency\n",
    "### Counter from the collections module by default doesn’t order elements based on their frequencies."
   ]
  },
  {
   "cell_type": "code",
   "execution_count": 102,
   "id": "1f350dfa-953c-4272-9fbd-c9a12a9c7824",
   "metadata": {},
   "outputs": [
    {
     "name": "stdout",
     "output_type": "stream",
     "text": [
      "Counter({2: 5, 1: 1, 3: 1})\n",
      "[(2, 5), (1, 1), (3, 1)]\n"
     ]
    }
   ],
   "source": [
    "from collections import Counter\n",
    "\n",
    "result = Counter([1, 2, 3, 2, 2, 2, 2])\n",
    "print(result)  \n",
    "print(result.most_common())"
   ]
  },
  {
   "cell_type": "markdown",
   "id": "8d2eb99e-2d0f-4ad3-ae7f-5808f16ae137",
   "metadata": {},
   "source": [
    "## 92. Find the most frequent element in a list in just one line\n"
   ]
  },
  {
   "cell_type": "code",
   "execution_count": 103,
   "id": "2a14c414-6b35-4a96-86ad-5c1f8bf662b6",
   "metadata": {},
   "outputs": [
    {
     "name": "stdout",
     "output_type": "stream",
     "text": [
      "a\n"
     ]
    }
   ],
   "source": [
    "my_list = ['1', 1, 0, 'a', 'b', 2, 'a', 'c', 'a']\n",
    "\n",
    "print(max(set(my_list), key=my_list.count))"
   ]
  },
  {
   "cell_type": "markdown",
   "id": "a633c3bd-fe7b-4e03-b194-53a7fefcb665",
   "metadata": {},
   "source": [
    "## 93. Difference between copy() and deepcopy()\n",
    "### Here is the explanation from the docs:   https://docs.python.org/3/library/copy.html#module-copy\n",
    "\n",
    "#### A shallow copy constructs a new compound object and then (to the extent possible) inserts references into it to the objects found in the original.\n",
    "#### A deep copy constructs a new compound object and then, recursively, inserts copies into it of the objects found in the original."
   ]
  },
  {
   "cell_type": "markdown",
   "id": "3746ff20-1f57-41f3-a2b3-39dc93675a03",
   "metadata": {},
   "source": [
    "### Maybe, an even more comprehensive description can be found here:\n",
    "    \n",
    "#### A shallow copy means constructing a new collection object and then populating it with references to the child objects found in the original. In essence, a shallow copy is only one level deep. The copying process does not recurse and therefore won’t create copies of the child objects themselves.\n",
    "#### A deep copy makes the copying process recursive. It means first constructing a new collection object and then recursively populating it with copies of the child objects found in the original. Copying an object this way walks the whole object tree to create a fully independent clone of the original object and all of its children.\n",
    "### Here is an example for the copy():"
   ]
  },
  {
   "cell_type": "code",
   "execution_count": 104,
   "id": "c1e81c01-b1ae-474c-8669-e40f9d4760c4",
   "metadata": {},
   "outputs": [
    {
     "name": "stdout",
     "output_type": "stream",
     "text": [
      "[[1, 2, 831], ['a', 'b', 'c']]\n",
      "[[1, 2, 831], ['a', 'b', 'c']]\n"
     ]
    }
   ],
   "source": [
    "first_list = [[1, 2, 3], ['a', 'b', 'c']]\n",
    "\n",
    "second_list = first_list.copy()\n",
    "\n",
    "first_list[0][2] = 831\n",
    "\n",
    "print(first_list)  \n",
    "print(second_list)  "
   ]
  },
  {
   "cell_type": "markdown",
   "id": "f6dfc62f-c674-45ed-874c-52d8976ed13c",
   "metadata": {},
   "source": [
    "### Here is an example for the deepcopy() case:"
   ]
  },
  {
   "cell_type": "code",
   "execution_count": 105,
   "id": "2633a664-28dc-4f68-b33d-995451f3d158",
   "metadata": {},
   "outputs": [
    {
     "name": "stdout",
     "output_type": "stream",
     "text": [
      "[[1, 2, 831], ['a', 'b', 'c']]\n",
      "[[1, 2, 3], ['a', 'b', 'c']]\n"
     ]
    }
   ],
   "source": [
    "import copy\n",
    "\n",
    "first_list = [[1, 2, 3], ['a', 'b', 'c']]\n",
    "\n",
    "second_list = copy.deepcopy(first_list)\n",
    "\n",
    "first_list[0][2] = 831\n",
    "\n",
    "print(first_list) \n",
    "print(second_list)"
   ]
  },
  {
   "cell_type": "markdown",
   "id": "1ba33135-5c87-429c-a2f1-83826c69ae17",
   "metadata": {},
   "source": [
    "## 94. You can avoid throwing errors when trying to access a non-existent key in a dictionary\n",
    "### If you use a usual dictionary and try to access a non-existent key, then you are going to get an error:"
   ]
  },
  {
   "cell_type": "code",
   "execution_count": 106,
   "id": "5c60c212-42bf-42ee-bc4d-33def1eac04e",
   "metadata": {},
   "outputs": [
    {
     "ename": "KeyError",
     "evalue": "'age'",
     "output_type": "error",
     "traceback": [
      "\u001b[0;31m---------------------------------------------------------------------------\u001b[0m",
      "\u001b[0;31mKeyError\u001b[0m                                  Traceback (most recent call last)",
      "Input \u001b[0;32mIn [106]\u001b[0m, in \u001b[0;36m<cell line: 2>\u001b[0;34m()\u001b[0m\n\u001b[1;32m      1\u001b[0m my_dictonary \u001b[38;5;241m=\u001b[39m {\u001b[38;5;124m\"\u001b[39m\u001b[38;5;124mname\u001b[39m\u001b[38;5;124m\"\u001b[39m: \u001b[38;5;124m\"\u001b[39m\u001b[38;5;124mName\u001b[39m\u001b[38;5;124m\"\u001b[39m, \u001b[38;5;124m\"\u001b[39m\u001b[38;5;124msurname\u001b[39m\u001b[38;5;124m\"\u001b[39m: \u001b[38;5;124m\"\u001b[39m\u001b[38;5;124mSurname\u001b[39m\u001b[38;5;124m\"\u001b[39m}\n\u001b[0;32m----> 2\u001b[0m \u001b[38;5;28mprint\u001b[39m(\u001b[43mmy_dictonary\u001b[49m\u001b[43m[\u001b[49m\u001b[38;5;124;43m\"\u001b[39;49m\u001b[38;5;124;43mage\u001b[39;49m\u001b[38;5;124;43m\"\u001b[39;49m\u001b[43m]\u001b[49m)\n",
      "\u001b[0;31mKeyError\u001b[0m: 'age'"
     ]
    }
   ],
   "source": [
    "my_dictonary = {\"name\": \"Name\", \"surname\": \"Surname\"}\n",
    "print(my_dictonary[\"age\"]) "
   ]
  },
  {
   "cell_type": "markdown",
   "id": "c1761f1d-1801-4524-a8a8-1d991543a1aa",
   "metadata": {},
   "source": [
    "### Here it’s the error thrown:\n",
    "\n",
    "#### KeyError: 'age'\n",
    "### We can avoid such errors using defaultdict():"
   ]
  },
  {
   "cell_type": "code",
   "execution_count": 107,
   "id": "f9d11eb2-d8e4-4231-aea9-545e7e958051",
   "metadata": {},
   "outputs": [
    {
     "name": "stdout",
     "output_type": "stream",
     "text": [
      "\n"
     ]
    }
   ],
   "source": [
    "from collections import defaultdict\n",
    "\n",
    "my_dictonary = defaultdict(str)\n",
    "my_dictonary['name'] = \"Name\"\n",
    "my_dictonary['surname'] = \"Surname\"\n",
    "\n",
    "print(my_dictonary[\"age\"])"
   ]
  },
  {
   "cell_type": "markdown",
   "id": "c97f0485-5c76-46cc-bfc0-a6909a32cf32",
   "metadata": {},
   "source": [
    "## 95. You can build your own iterator"
   ]
  },
  {
   "cell_type": "code",
   "execution_count": 108,
   "id": "837c84d0-e876-4576-abea-6f0adb83a151",
   "metadata": {},
   "outputs": [
    {
     "name": "stdout",
     "output_type": "stream",
     "text": [
      "1\n",
      "3\n",
      "5\n"
     ]
    }
   ],
   "source": [
    "class OddNumbers:\n",
    "    def __iter__(self):\n",
    "        self.a = 1\n",
    "        return self\n",
    "\n",
    "    def __next__(self):\n",
    "        x = self.a\n",
    "        self.a += 2\n",
    "        return x\n",
    "\n",
    "\n",
    "odd_numbers_object = OddNumbers()\n",
    "iterator = iter(odd_numbers_object)\n",
    "\n",
    "print(next(iterator))  \n",
    "print(next(iterator))  \n",
    "print(next(iterator))"
   ]
  },
  {
   "cell_type": "markdown",
   "id": "ecb1c1b9-efd4-4b29-bc34-9c15ee8cbf63",
   "metadata": {},
   "source": [
    "## 96. You can remove duplicates from a list in a single line"
   ]
  },
  {
   "cell_type": "code",
   "execution_count": 109,
   "id": "4efbaa9c-8d8e-417e-bc73-b01a8b354361",
   "metadata": {},
   "outputs": [
    {
     "name": "stdout",
     "output_type": "stream",
     "text": [
      "[1, 2, 3, 4, 5]\n"
     ]
    }
   ],
   "source": [
    "my_set = set([1, 2, 1, 2, 3, 4, 5])\n",
    "print(list(my_set))"
   ]
  },
  {
   "cell_type": "markdown",
   "id": "b37a66d2-6a0a-4312-842d-f7558b3a01a4",
   "metadata": {},
   "source": [
    "### 97. Print the place where a module is located"
   ]
  },
  {
   "cell_type": "code",
   "execution_count": 110,
   "id": "ab014d4a-d086-4e3e-9ebc-2ae0e7792a40",
   "metadata": {},
   "outputs": [
    {
     "name": "stdout",
     "output_type": "stream",
     "text": [
      "<module 'torch' from '/home/arjun/.config/jupyterlab-desktop/jlab_server/lib/python3.8/site-packages/torch/__init__.py'>\n"
     ]
    }
   ],
   "source": [
    "import torch\n",
    "\n",
    "print(torch)"
   ]
  },
  {
   "cell_type": "markdown",
   "id": "04060142-27ae-46d4-ab48-5dae65b32028",
   "metadata": {},
   "source": [
    "## 98. You can check whether a value is not part of a list using “not in”"
   ]
  },
  {
   "cell_type": "code",
   "execution_count": 111,
   "id": "5ea5c60b-fd23-479d-b82d-6d5b178420b4",
   "metadata": {},
   "outputs": [
    {
     "name": "stdout",
     "output_type": "stream",
     "text": [
      "[0, 2, 4, 6, 8]\n"
     ]
    }
   ],
   "source": [
    "odd_numbers = [1, 3, 5, 7, 9]\n",
    "even_numbers = []\n",
    "\n",
    "for i in range(9):\n",
    "    if i not in odd_numbers:\n",
    "        even_numbers.append(i)\n",
    "\n",
    "print(even_numbers)"
   ]
  },
  {
   "cell_type": "markdown",
   "id": "d2abb771-88b6-4878-8314-dcfc2b7c2ba8",
   "metadata": {},
   "source": [
    "## 99. Difference between sort() and sorted()\n",
    "### sort() sorts the original list.\n",
    "\n",
    "### sorted() returns a new sorted list."
   ]
  },
  {
   "cell_type": "code",
   "execution_count": 112,
   "id": "5fc7b81f-3c67-40d7-b271-cead41521c1d",
   "metadata": {},
   "outputs": [
    {
     "name": "stdout",
     "output_type": "stream",
     "text": [
      "['bread', 'milk', 'tea']\n",
      "['milk', 'bread', 'tea']\n",
      "['bread', 'milk', 'tea']\n"
     ]
    }
   ],
   "source": [
    "groceries = ['milk', 'bread', 'tea']\n",
    "\n",
    "new_groceries = sorted(groceries)\n",
    "# new_groceries = ['bread', 'milk', 'tea']\n",
    "\n",
    "print(new_groceries)\n",
    "\n",
    "# groceries = ['milk', 'bread', 'tea']\n",
    "print(groceries)\n",
    "\n",
    "groceries.sort()\n",
    "\n",
    "# groceries = ['bread', 'milk', 'tea']\n",
    "print(groceries)"
   ]
  },
  {
   "cell_type": "markdown",
   "id": "0e4964fe-bd15-4eaf-9363-19edb279cce5",
   "metadata": {},
   "source": [
    "## 100. Generate unique IDs using the uuid module\n",
    "### UUID stands for Universally Unique Identifier."
   ]
  },
  {
   "cell_type": "code",
   "execution_count": 113,
   "id": "e306ee7c-642a-40de-837e-d7be15999adb",
   "metadata": {},
   "outputs": [
    {
     "name": "stdout",
     "output_type": "stream",
     "text": [
      "3c2ce9fc-99cd-11ed-bd1b-d8bbc1acd933\n",
      "af7edad4-c348-410d-ac1a-fd1da7989059\n"
     ]
    }
   ],
   "source": [
    "import uuid\n",
    "\n",
    "# Generate a UUID from a host ID, sequence number, and the current time\n",
    "print(uuid.uuid1())  # 308490b6-afe4-11eb-95f7-0c4de9a0c5af\n",
    "\n",
    "# Generate a random UUID\n",
    "print(uuid.uuid4())"
   ]
  },
  {
   "cell_type": "markdown",
   "id": "f395e827-2e4e-4516-8822-b9223a32e7e4",
   "metadata": {},
   "source": [
    "## Bonus: 101. String is a primitive data type in Python\n",
    "### If you come from a Java background, you know that String in Java is a non-primitive data type, because it refers to an object.\n",
    "\n",
    "### In Python, a string is a primitive data type."
   ]
  }
 ],
 "metadata": {
  "kernelspec": {
   "display_name": "Python 3 (ipykernel)",
   "language": "python",
   "name": "python3"
  },
  "language_info": {
   "codemirror_mode": {
    "name": "ipython",
    "version": 3
   },
   "file_extension": ".py",
   "mimetype": "text/x-python",
   "name": "python",
   "nbconvert_exporter": "python",
   "pygments_lexer": "ipython3",
   "version": "3.8.13"
  }
 },
 "nbformat": 4,
 "nbformat_minor": 5
}
