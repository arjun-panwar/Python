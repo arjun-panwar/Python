{
 "cells": [
  {
   "cell_type": "markdown",
   "metadata": {},
   "source": [
    "# Acronym\n",
    "An acronym is a short form of a word created by long words or phrases such as NLP for natural language processing."
   ]
  },
  {
   "cell_type": "markdown",
   "metadata": {},
   "source": [
    "## Creating Acronyms\n",
    "Split the words and extracting the first char of every string in the list. \n",
    "      \n",
    "    "
   ]
  },
  {
   "cell_type": "code",
   "execution_count": 7,
   "metadata": {},
   "outputs": [
    {
     "name": "stdout",
     "output_type": "stream",
     "text": [
      "Enter text : Arjun Panwar\n",
      "AP\n"
     ]
    }
   ],
   "source": [
    "text=input(\"Enter text : \") #taking a string user input\n",
    "s=text.split()              #spliting the input and storing it into list\n",
    "a=\"\"                        # a will store Acronym \n",
    "for i in s:                 #For loop iterating through each word in list\n",
    "    a+=i[0].upper()         # extracting the first letter of the word,convert it into uppercase, concate it to variable a\n",
    "print(a)                    #printing Acronym"
   ]
  },
  {
   "cell_type": "code",
   "execution_count": null,
   "metadata": {},
   "outputs": [],
   "source": []
  }
 ],
 "metadata": {
  "kernelspec": {
   "display_name": "Python 3",
   "language": "python",
   "name": "python3"
  },
  "language_info": {
   "codemirror_mode": {
    "name": "ipython",
    "version": 3
   },
   "file_extension": ".py",
   "mimetype": "text/x-python",
   "name": "python",
   "nbconvert_exporter": "python",
   "pygments_lexer": "ipython3",
   "version": "3.8.3"
  }
 },
 "nbformat": 4,
 "nbformat_minor": 4
}
