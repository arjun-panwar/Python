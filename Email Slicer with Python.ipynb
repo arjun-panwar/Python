{
 "cells": [
  {
   "cell_type": "markdown",
   "metadata": {},
   "source": [
    "# Email Slicer\n",
    "We take user input and use the strip function at the same time to remove white space if any. Then we are finding the index of ‘@’ symbol of the user input. Then we store the index into a variable known as domain_name to split the email into two parts; the user name and the domain."
   ]
  },
  {
   "cell_type": "code",
   "execution_count": 4,
   "metadata": {},
   "outputs": [
    {
     "name": "stdout",
     "output_type": "stream",
     "text": [
      "Enter Your Email: arjunpanwar@earthrootfoundation.org\n",
      "Your user name is arjunpanwar and your domain is earthrootfoundation.org\n"
     ]
    }
   ],
   "source": [
    "# take user input and use the strip function at the same time to remove white space if any.\n",
    "email = input(\"Enter Your Email: \").strip()\n",
    "\"\"\"\n",
    "email.index(\"@\") will give index of @, \n",
    "then we use slicing techinque to extract\n",
    "username(letters before @) and domain (letters after @)\n",
    "\"\"\"\n",
    "username = email[:email.index(\"@\")]\n",
    "domain_name = email[email.index(\"@\")+1:]\n",
    "\n",
    "#print output\n",
    "print(\"Your user name is {} and your domain is {}\".format(username,domain_name)) "
   ]
  },
  {
   "cell_type": "code",
   "execution_count": null,
   "metadata": {},
   "outputs": [],
   "source": []
  }
 ],
 "metadata": {
  "kernelspec": {
   "display_name": "Python 3",
   "language": "python",
   "name": "python3"
  },
  "language_info": {
   "codemirror_mode": {
    "name": "ipython",
    "version": 3
   },
   "file_extension": ".py",
   "mimetype": "text/x-python",
   "name": "python",
   "nbconvert_exporter": "python",
   "pygments_lexer": "ipython3",
   "version": "3.8.3"
  }
 },
 "nbformat": 4,
 "nbformat_minor": 4
}
