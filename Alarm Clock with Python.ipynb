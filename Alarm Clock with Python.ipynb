{
 "cells": [
  {
   "cell_type": "markdown",
   "metadata": {},
   "source": [
    "# Alarm Clock\n",
    "An alarm clock is a clock with a function that can be activated to ring at a time set in advance, used to wake someone up.\n",
    "I will be using the DateTime module in Python to create an alarm clock and the sound library in Python to play the alarm sound."
   ]
  },
  {
   "cell_type": "raw",
   "metadata": {},
   "source": [
    "    DateTime module comes preinstalled in the Python\n",
    "lets install playsound library using below commend"
   ]
  },
  {
   "cell_type": "code",
   "execution_count": 7,
   "metadata": {},
   "outputs": [
    {
     "name": "stdout",
     "output_type": "stream",
     "text": [
      "Requirement already satisfied: playsound in c:\\users\\arjun\\anaconda3\\lib\\site-packages (1.2.2)\n",
      "Note: you may need to restart the kernel to use updated packages.\n"
     ]
    }
   ],
   "source": [
    "pip install playsound "
   ]
  },
  {
   "cell_type": "code",
   "execution_count": 14,
   "metadata": {},
   "outputs": [],
   "source": [
    "#imporing libraries\n",
    "from datetime import datetime   \n",
    "from playsound import playsound"
   ]
  },
  {
   "cell_type": "markdown",
   "metadata": {},
   "source": [
    "Now function of datetime library give current time\n",
    "\n",
    "Format =(year, month, day[, hour[, minute[, second[, microsecond]]]])"
   ]
  },
  {
   "cell_type": "code",
   "execution_count": 26,
   "metadata": {},
   "outputs": [
    {
     "data": {
      "text/plain": [
       "datetime.datetime(2021, 1, 19, 0, 28, 23, 837434)"
      ]
     },
     "execution_count": 26,
     "metadata": {},
     "output_type": "execute_result"
    }
   ],
   "source": [
    "#now function of datetime library give current time\n",
    "#in this format =(year, month, day[, hour[, minute[, second[, microsecond]]]])\n",
    "datetime.now() "
   ]
  },
  {
   "cell_type": "markdown",
   "metadata": {},
   "source": [
    "Method strftime() converts a tuple or struct_time representing a time as returned by datetime.now()  to a string as specified by the format argument."
   ]
  },
  {
   "cell_type": "code",
   "execution_count": 27,
   "metadata": {},
   "outputs": [
    {
     "data": {
      "text/plain": [
       "'29'"
      ]
     },
     "execution_count": 27,
     "metadata": {},
     "output_type": "execute_result"
    }
   ],
   "source": [
    "datetime.now().strftime(\"%M\")  #it return minutes "
   ]
  },
  {
   "cell_type": "markdown",
   "metadata": {},
   "source": [
    "playsound is used to play audio,here I will play 'Alarm_tone.mp3' named audio which is present in the same folder as of notebook\n"
   ]
  },
  {
   "cell_type": "code",
   "execution_count": 30,
   "metadata": {},
   "outputs": [],
   "source": [
    "playsound('Alarm_tone.mp3',block=False) \n",
    "#block is used to block the program as audio play,it is good to keep it False,so that you can run further code"
   ]
  },
  {
   "cell_type": "markdown",
   "metadata": {},
   "source": [
    "So As of now you know ffunctionality of datetime and playsound\n",
    "# Lets code our Alarm"
   ]
  },
  {
   "cell_type": "code",
   "execution_count": 4,
   "metadata": {},
   "outputs": [
    {
     "name": "stdout",
     "output_type": "stream",
     "text": [
      "Enter the time of alarm to be set:HH:MM:SS with AM\\PM \n",
      "01:07:00 am\n",
      "Setting up alarm..\n",
      "Wake Up!\n"
     ]
    }
   ],
   "source": [
    "from datetime import datetime                                            #importing modules\n",
    "from playsound import playsound\n",
    "time = input(\"Enter the time of alarm to be set:HH:MM:SS with AM\\\\PM \\n\")  #taking time input as string\n",
    "hour=time[0:2]                                                     #breaking time string into hour,\n",
    "minute=time[3:5]                                                   #minute,\n",
    "seconds=time[6:8]                                                  #second,\n",
    "period = time[9:11].upper()                                        #period(AM/PM) and converting it into uppercase\n",
    "print(\"Setting up alarm..\")\n",
    "while True:                                                              #while loop will run untill current time = given input                                                                     \n",
    "    now = datetime.now()                                                 #storing current time\n",
    "    current_hour = now.strftime(\"%I\")                                    #breaking currrent time to hour,\n",
    "    current_minute = now.strftime(\"%M\")                                  #minute\n",
    "    current_seconds = now.strftime(\"%S\")                                 #second,\n",
    "    current_period = now.strftime(\"%p\")                                  #period(AM/PM)\n",
    "    if(period==current_period):                                   #checking for period\n",
    "         if(hour==current_hour):                                  #checking for hour\n",
    "            if(minute==current_minute):                           #checking for minute\n",
    "                if(seconds==current_seconds):                     #checking for seconds\n",
    "                    print(\"Wake Up!\")\n",
    "                    playsound('Alarm_tone.mp3',block=False)                   #alram will ring if time match   \n",
    "                    break                                         #break to terminate while loop"
   ]
  },
  {
   "cell_type": "code",
   "execution_count": null,
   "metadata": {},
   "outputs": [],
   "source": []
  }
 ],
 "metadata": {
  "kernelspec": {
   "display_name": "Python 3",
   "language": "python",
   "name": "python3"
  },
  "language_info": {
   "codemirror_mode": {
    "name": "ipython",
    "version": 3
   },
   "file_extension": ".py",
   "mimetype": "text/x-python",
   "name": "python",
   "nbconvert_exporter": "python",
   "pygments_lexer": "ipython3",
   "version": "3.8.3"
  }
 },
 "nbformat": 4,
 "nbformat_minor": 4
}
